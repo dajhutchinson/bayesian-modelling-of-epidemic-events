{
 "cells": [
  {
   "cell_type": "markdown",
   "id": "demographic-beatles",
   "metadata": {},
   "source": [
    "# Summary Statistic Dimensionality"
   ]
  },
  {
   "cell_type": "code",
   "execution_count": 2,
   "id": "developed-flush",
   "metadata": {},
   "outputs": [
    {
     "data": {
      "text/plain": [
       "{'divide': 'warn', 'over': 'warn', 'under': 'ignore', 'invalid': 'warn'}"
      ]
     },
     "execution_count": 2,
     "metadata": {},
     "output_type": "execute_result"
    }
   ],
   "source": [
    "import ABC\n",
    "import numpy as np\n",
    "from Models import LinearModel, SIRModel\n",
    "from scipy import stats\n",
    "from sys import maxsize\n",
    "\n",
    "# silence warnings about dodgy division\n",
    "np.seterr(divide='ignore', invalid='ignore')"
   ]
  },
  {
   "cell_type": "code",
   "execution_count": 3,
   "id": "unsigned-envelope",
   "metadata": {},
   "outputs": [],
   "source": [
    "# print results\n",
    "def print_results(results,num_stats=None):\n",
    "    used=[]\n",
    "    n=len(results)\n",
    "    for x in returned_stats:\n",
    "        if x not in used:\n",
    "            used.append(x)\n",
    "            print(\"([{}],{:.2f}%)\".format(\",\".join([str(y) for y in x]),100*(returned_stats.count(x)/n)))\n",
    "            \n",
    "    if (num_stats):\n",
    "        for i in range(num_stats):\n",
    "            print(\"(ss_{},{:.2f}%)\".format(i,100*(sum(i in row for row in returned_stats)/n)))"
   ]
  },
  {
   "cell_type": "code",
   "execution_count": 4,
   "id": "covered-handbook",
   "metadata": {},
   "outputs": [],
   "source": [
    "def mse(obs_1,obs_2):\n",
    "    n_obs=len(obs_1)\n",
    "    if (len(obs_2)!=n_obs): raise ValueError(\"obs_1 and obs_2 must have same dimension\")\n",
    "    sse=sum([(obs_1[i]-obs_2[i])**2 for i in range(n_obs)])\n",
    "    return sse/n_obs"
   ]
  },
  {
   "cell_type": "code",
   "execution_count": 5,
   "id": "rocky-blocking",
   "metadata": {},
   "outputs": [],
   "source": [
    "# SIR model\n",
    "sir_model=SIRModel(\n",
    "    params=[100000,100,1,.5],\n",
    "    n_obs=30,\n",
    "    x_obs=[[x] for x in range(30)],)\n",
    "sir_priors=[stats.uniform(100000,0),stats.uniform(100,0),stats.uniform(0,1.5),stats.uniform(0,2)]\n",
    "param_bounds=[(100000,100000),(100,100),(0,1.5),(0,2)]"
   ]
  },
  {
   "cell_type": "code",
   "execution_count": 6,
   "id": "acceptable-being",
   "metadata": {},
   "outputs": [],
   "source": [
    "# SUMMARY STATISTICS\n",
    "# logs taken so on similar scale\n",
    "final_susceptible_ss=(lambda ys:[2*np.log(ys[-1][0])]) # size of final populations\n",
    "final_infectious_ss=(lambda ys:[3*np.log(ys[-1][1])])\n",
    "final_removed_ss=(lambda ys:[1.5*np.log(ys[-1][2])])\n",
    "\n",
    "peak_infections_date_ss=(lambda ys:[ys.index(max(ys,key=lambda y:y[1]))]) # date of peak infectious size\n",
    "peak_infections_value_ss=(lambda ys:[1.5*np.log(max(ys,key=lambda y:y[1])[1])]) # peak infectious population size\n",
    "\n",
    "net_weekly_susceptible_ss=(lambda ys:[.5*np.log(abs(ys[i][0]-ys[i-7][0])) for i in range(7,len(ys)-1,7)]) # weekly change in susceptible (dim=3)\n",
    "net_weekly_infections_ss=(lambda ys:[.5*np.log(abs(ys[i][1]-ys[i-7][1])) for i in range(7,len(ys)-1,7)]) # weekly change in infections (dim=3)\n",
    "net_weekly_removed_ss=(lambda ys:[.5*np.log(abs(ys[i][2]-ys[i-7][2])) for i in range(7,len(ys)-1,7)])\n",
    "\n",
    "net_daily_susceptible_ss=(lambda ys:[0.08*np.log(abs(ys[i+1][0]-ys[i][0])) for i in range(0,len(ys)-1)]) # daily change in susceptible (dim=29)\n",
    "net_daily_infections_ss=(lambda ys:[0.1*np.log(abs(ys[i+1][1]-ys[i][1])) for i in range(0,len(ys)-1)]) # daily change in infections (dim=29)\n",
    "net_daily_removed_ss=(lambda ys:[0.08*np.log(abs(ys[i+1][2]-ys[i][2])) for i in range(0,len(ys)-1)])\n",
    "\n",
    "mean_susceptible_ss=(lambda ys:[1.6*np.log(np.mean([y[0] for y in ys]))])\n",
    "mean_infectious_ss=(lambda ys:[2*np.log(np.mean([y[1] for y in ys]))])\n",
    "mean_removed_ss=(lambda ys:[1.6*np.log(np.mean([y[2] for y in ys]))])\n",
    "\n",
    "rand=(lambda ys:[stats.uniform(0,19).rvs(1)[0]]) # random\n",
    "\n",
    "summary_stats=[final_susceptible_ss,final_infectious_ss,final_removed_ss, #0,1,2\n",
    "                peak_infections_date_ss,peak_infections_value_ss, # 3,4\n",
    "                net_weekly_susceptible_ss,net_weekly_infections_ss,net_weekly_removed_ss, #5,6,7\n",
    "                net_daily_susceptible_ss,net_daily_infections_ss,net_daily_removed_ss, #8,9,10\n",
    "                mean_susceptible_ss,mean_infectious_ss,mean_removed_ss, #11,12,13\n",
    "                rand,] #14\n",
    "\n",
    "summary_stats_size_one=[final_susceptible_ss,final_infectious_ss,final_removed_ss, #0,1,2\n",
    "                peak_infections_date_ss,peak_infections_value_ss, #3,4\n",
    "                mean_susceptible_ss,mean_infectious_ss,mean_removed_ss, #5,6,7\n",
    "                rand,]#8\n",
    "\n",
    "good_summary_stats_size_one=[final_susceptible_ss,final_removed_ss, #0,1\n",
    "                peak_infections_value_ss, # 2,3\n",
    "                mean_susceptible_ss,mean_infectious_ss,mean_removed_ss, #4,5,6\n",
    "                ]\n",
    "\n",
    "summary_stats_size_four=[net_weekly_susceptible_ss,net_weekly_infections_ss,net_weekly_removed_ss,]\n",
    "\n",
    "summary_stats_size_tweenty_nine=[net_daily_susceptible_ss,net_daily_infections_ss,net_daily_removed_ss,]"
   ]
  },
  {
   "cell_type": "code",
   "execution_count": 6,
   "id": "environmental-composer",
   "metadata": {
    "scrolled": true
   },
   "outputs": [
    {
     "name": "stdout",
     "output_type": "stream",
     "text": [
      "49/50 [[3], [2], [0], [0], [0], [3], [0], [1], [0], [1], [2], [1], [2], [4], [1], [0], [2], [2], [1], [0], [3], [0], [2], [3], [1], [0], [0], [2], [1], [0], [3], [3], [3], [3], [2], [3], [3], [0], [3], [2], [0], [3], [0], [1], [1], [3], [3], [0], [2]]\n",
      "\n",
      "Results\n",
      "([3],28.00%)\n",
      "([2],22.00%)\n",
      "([0],30.00%)\n",
      "([1],18.00%)\n",
      "([4],2.00%)\n",
      "Wall time: 12min 30s\n"
     ]
    }
   ],
   "source": [
    "%%time\n",
    "# SIR model\n",
    "returned_stats=[]\n",
    "n_tests=50\n",
    "\n",
    "for i in range(n_tests):\n",
    "    print(\"{}/{} \".format(i,n_tests),end=\"\")\n",
    "    print(returned_stats,end=\"\\r\")\n",
    "    best_stats=ABC.joyce_marjoram(summary_stats_size_one,n_obs=30,y_obs=sir_model.observe(),fitting_model=sir_model.copy([1,1,1,1]),priors=sir_priors,param_bounds=param_bounds,BANDWIDTH=.5,n_samples=10000,n_bins=10,distance_measure=ABC.log_l2_norm,printing=False)\n",
    "    returned_stats.append(best_stats)\n",
    "\n",
    "print(\"\\n\\nResults\")\n",
    "print_results(returned_stats)"
   ]
  },
  {
   "cell_type": "code",
   "execution_count": 6,
   "id": "brazilian-consent",
   "metadata": {},
   "outputs": [
    {
     "name": "stdout",
     "output_type": "stream",
     "text": [
      "24/25 [(1, 4), (4, 5), (1, 4), (2, 4, 5), (2, 4, 5), (0, 1, 4, 5), (2, 4, 5), (1, 4), (4, 5), (3, 4, 5), (4, 5), (4, 5), (1, 2, 3, 4, 5), (1, 4), (1, 2, 4, 5), (0, 3, 4, 5), (1, 3, 4), (4, 5), (0, 1, 3, 4, 5), (1, 4, 5), (1, 4, 5), (1, 4), (1, 2, 3, 4, 5), (3, 4, 5)]\n",
      "\n",
      "Results\n",
      "([1,4],20.00%)\n",
      "([4,5],20.00%)\n",
      "([2,4,5],12.00%)\n",
      "([0,1,4,5],4.00%)\n",
      "([3,4,5],8.00%)\n",
      "([1,2,3,4,5],8.00%)\n",
      "([1,2,4,5],4.00%)\n",
      "([0,3,4,5],4.00%)\n",
      "([1,3,4],4.00%)\n",
      "([0,1,3,4,5],4.00%)\n",
      "([1,4,5],12.00%)\n",
      "Wall time: 17min 44s\n"
     ]
    }
   ],
   "source": [
    "%%time\n",
    "# SIR model\n",
    "returned_stats=[]\n",
    "n_tests=25\n",
    "\n",
    "for i in range(n_tests):\n",
    "    print(\"{}/{} \".format(i,n_tests),end=\"\")\n",
    "    print(returned_stats,end=\"\\r\")\n",
    "    best_stats,_=ABC.two_step_minimum_entropy(summary_stats=good_summary_stats_size_one,n_obs=30,y_obs=sir_model.observe(),fitting_model=sir_model.copy([1,1,1,1]),priors=sir_priors,printing=False)\n",
    "    returned_stats.append(best_stats)\n",
    "\n",
    "print(\"\\n\\nResults\")\n",
    "print_results(returned_stats)"
   ]
  },
  {
   "cell_type": "code",
   "execution_count": null,
   "id": "potential-recovery",
   "metadata": {},
   "outputs": [
    {
     "name": "stdout",
     "output_type": "stream",
     "text": [
      "46/50 [(1, 4, 5), (2, 5), (1, 3, 5), (2, 3, 5), (1, 2, 5), (0, 1, 2), (0, 2, 4), (0, 1, 3), (0, 3), (1, 2, 5), (0, 2, 3), (1, 3), (2, 3, 5), (4, 5), (3, 4, 5), (1, 4, 5), (1, 4, 5), (1, 4), (2, 3, 5), (2, 3, 4), (3,), (1, 4), (4, 5), (0, 2, 3), (0, 5), (1, 4, 5), (1, 4, 5), (2, 3, 4), (1, 2, 5), (1, 2, 4), (0, 2, 4), (0, 2, 5), (2, 3, 5), (2, 4, 5), (0, 3, 4), (3, 4, 5), (1, 4, 5), (2, 4, 5), (2, 3, 5), (1, 4, 5), (2, 5), (1, 2, 4), (1, 4, 5), (3, 4, 5), (1, 3), (0, 2)]\r"
     ]
    }
   ],
   "source": [
    "%%time\n",
    "returned_stats=[]\n",
    "n_tests=50\n",
    "\n",
    "for i in range(n_tests):\n",
    "    print(\"{}/{} \".format(i,n_tests),end=\"\")\n",
    "    print(returned_stats,end=\"\\r\")\n",
    "    best_stats,_=ABC.minimum_entropy(good_summary_stats_size_one,n_obs=30,y_obs=sir_model.observe(),fitting_model=sir_model.copy([1,1,1,1]),priors=sir_priors,n_samples=10000,n_accept=1000,\n",
    "                                     min_subset_size=1,max_subset_size=3,printing=False)\n",
    "    returned_stats.append(best_stats)\n",
    "\n",
    "print(\"\\n\\nResults\")\n",
    "print_results(returned_stats,len(summary_stats_size_one))"
   ]
  },
  {
   "cell_type": "code",
   "execution_count": 22,
   "id": "moderate-reference",
   "metadata": {},
   "outputs": [],
   "source": [
    "def mse_summary_stats(summary_stats):\n",
    "    sir_smc_priors=[stats.uniform(100000,1),stats.uniform(100,1),stats.uniform(0.5,1.5),stats.uniform(0,.8)]\n",
    "\n",
    "    total_error=0\n",
    "    n_runs=5\n",
    "    for i in range(n_runs):\n",
    "        print(\"({})\".format(i),end=\" \")\n",
    "\n",
    "        fitted_model,_=ABC.adaptive_abc_smc(n_obs=30,y_obs=sir_model.observe(),\n",
    "            fitting_model=sir_model.copy([1,1,1,1]),priors=sir_smc_priors,\n",
    "            max_steps=100,sample_size=50,max_simulations=5000,\n",
    "            acceptance_kernel=ABC.uniform_kernel,alpha=.9,\n",
    "            summary_stats=summary_stats,\n",
    "            distance_measure=ABC.log_l2_norm,show_plots=False,printing=False)\n",
    "\n",
    "        flat_obs_1=[x for row in fitted_model.observe() for x in row]\n",
    "        flat_obs_2=[x for row in sir_model.observe() for x in row]\n",
    "\n",
    "        new_e=mse(flat_obs_1,flat_obs_2)\n",
    "        total_error+=new_e\n",
    "\n",
    "        print(\"{:,.2f} ({:,.2f})\".format(new_e,total_error/(i+1)))\n",
    "\n",
    "    print(\"\\nTotal={:,.2f}\".format(total_error/n_runs))\n",
    "    return total_error/n_runs"
   ]
  },
  {
   "cell_type": "code",
   "execution_count": 34,
   "id": "interested-nepal",
   "metadata": {},
   "outputs": [
    {
     "name": "stdout",
     "output_type": "stream",
     "text": [
      "(0) *********************************1010080.32 (1,010,080.32)\n",
      "(1) *******************************4913110.93 (2,961,595.62)\n",
      "(2) ****************************1130668.84 (2,351,286.70)\n",
      "(3) **********************************21613.39 (1,768,868.37)\n",
      "(4) *********************************4719103.27 (2,358,915.35)\n",
      "\n",
      "Total=2,358,915.35\n",
      "Wall time: 21min 44s\n"
     ]
    },
    {
     "data": {
      "text/plain": [
       "2358915.350440626"
      ]
     },
     "execution_count": 34,
     "metadata": {},
     "output_type": "execute_result"
    }
   ],
   "source": [
    "%%time\n",
    "# 1 D\n",
    "mse_summary_stats([mean_susceptible_ss])"
   ]
  },
  {
   "cell_type": "code",
   "execution_count": 12,
   "id": "diverse-reporter",
   "metadata": {},
   "outputs": [
    {
     "name": "stdout",
     "output_type": "stream",
     "text": [
      "(0) ************************************************************4,644,529.88 (4,644,529.88)\n",
      "(1) ************************************************************433,464.20 (2,538,997.04)\n",
      "(2) ************************************************************1,135,852.87 (2,071,282.32)\n",
      "(3) *************************************************************2,751,577.11 (2,241,356.02)\n",
      "(4) ************************************************************205,960.27 (1,834,276.87)\n",
      "\n",
      "Total=1,834,276.87\n",
      "Wall time: 43min 6s\n"
     ]
    },
    {
     "data": {
      "text/plain": [
       "1834276.8669710532"
      ]
     },
     "execution_count": 12,
     "metadata": {},
     "output_type": "execute_result"
    }
   ],
   "source": [
    "%%time\n",
    "# 2 D\n",
    "#TODO\n",
    "mse_summary_stats([mean_infectious_ss,mean_removed_ss])"
   ]
  },
  {
   "cell_type": "code",
   "execution_count": 13,
   "id": "southern-experiment",
   "metadata": {},
   "outputs": [
    {
     "name": "stdout",
     "output_type": "stream",
     "text": [
      "(0) ************************************************************501,333.98 (501,333.98)\n",
      "(1) *************************************************************406,093.67 (453,713.83)\n",
      "(2) ************************************************************2,654,388.90 (1,187,272.19)\n",
      "(3) ************************************************************2,600,792.76 (1,540,652.33)\n",
      "(4) ************************************************************3,514,220.82 (1,935,366.03)\n",
      "\n",
      "Total=1,935,366.03\n",
      "Wall time: 40min 42s\n"
     ]
    },
    {
     "data": {
      "text/plain": [
       "1935366.0273007215"
      ]
     },
     "execution_count": 13,
     "metadata": {},
     "output_type": "execute_result"
    }
   ],
   "source": [
    "%%time\n",
    "# 3 D\n",
    "#TODO\n",
    "mse_summary_stats([final_removed_ss,mean_susceptible_ss,mean_infectious_ss])"
   ]
  },
  {
   "cell_type": "code",
   "execution_count": 14,
   "id": "secondary-works",
   "metadata": {},
   "outputs": [
    {
     "name": "stdout",
     "output_type": "stream",
     "text": [
      "(0) ************************************6,253,236.46 (6,253,236.46)\n",
      "(1) **************************************463,275.45 (3,358,255.96)\n",
      "(2) *************************************494,862.23 (2,403,791.38)\n",
      "(3) **************************************2,022,244.08 (2,308,404.55)\n",
      "(4) ******************************************47,174.34 (1,856,158.51)\n",
      "\n",
      "Total=1,856,158.51\n",
      "Wall time: 27min 17s\n"
     ]
    },
    {
     "data": {
      "text/plain": [
       "1856158.5115041162"
      ]
     },
     "execution_count": 14,
     "metadata": {},
     "output_type": "execute_result"
    }
   ],
   "source": [
    "%%time\n",
    "# 4 D\n",
    "#TODO\n",
    "mse_summary_stats([net_weekly_removed_ss])"
   ]
  },
  {
   "cell_type": "code",
   "execution_count": 15,
   "id": "challenging-majority",
   "metadata": {},
   "outputs": [
    {
     "name": "stdout",
     "output_type": "stream",
     "text": [
      "(0) *****************************************************418,778.79 (418,778.79)\n",
      "(1) *****************************************************113,407.14 (266,092.97)\n",
      "(2) *****************************************************10,940.84 (181,042.26)\n",
      "(3) *****************************************************50,852.32 (148,494.77)\n",
      "(4) ***************************************************14,908.84 (121,777.59)\n",
      "\n",
      "Total=121,777.59\n",
      "Wall time: 34min 10s\n"
     ]
    },
    {
     "data": {
      "text/plain": [
       "121777.58720400941"
      ]
     },
     "execution_count": 15,
     "metadata": {},
     "output_type": "execute_result"
    }
   ],
   "source": [
    "%%time\n",
    "# 90D\n",
    "#TODO\n",
    "mse_summary_stats(None)"
   ]
  },
  {
   "cell_type": "code",
   "execution_count": 16,
   "id": "lesser-flower",
   "metadata": {},
   "outputs": [
    {
     "name": "stdout",
     "output_type": "stream",
     "text": [
      "(0) ********************************************107,075,610.58 (107,075,610.58)\n",
      "(1) *********************************************144,409,064.99 (125,742,337.78)\n",
      "(2) ********************************************112,930,682.80 (121,471,786.12)\n",
      "(3) *********************************************41,343,208.48 (101,439,641.71)\n",
      "(4) **********************************************102,893,115.25 (101,730,336.42)\n",
      "\n",
      "Total=101,730,336.42\n",
      "Wall time: 29min 52s\n"
     ]
    },
    {
     "data": {
      "text/plain": [
       "101730336.41903594"
      ]
     },
     "execution_count": 16,
     "metadata": {},
     "output_type": "execute_result"
    }
   ],
   "source": [
    "%%time\n",
    "# Joyce-Marjoram\n",
    "#TODO\n",
    "mse_summary_stats([final_susceptible_ss])"
   ]
  },
  {
   "cell_type": "code",
   "execution_count": 18,
   "id": "atlantic-flexibility",
   "metadata": {},
   "outputs": [
    {
     "name": "stdout",
     "output_type": "stream",
     "text": [
      "(0) ***********************************************************38,520.39 (38,520.39)\n",
      "(1) *************************************************************851,649.73 (445,085.06)\n",
      "(2) ***********************************************************43,541.31 (311,237.14)\n",
      "(3) ************************************************************3,865.69 (234,394.28)\n",
      "(4) ***********************************************************203,173.19 (228,150.06)\n",
      "\n",
      "Total=228,150.06\n",
      "Wall time: 41min 29s\n"
     ]
    },
    {
     "data": {
      "text/plain": [
       "228150.06273270267"
      ]
     },
     "execution_count": 18,
     "metadata": {},
     "output_type": "execute_result"
    }
   ],
   "source": [
    "%%time\n",
    "# 2-Step Minimum Entropy\n",
    "mse_summary_stats([peak_infections_value_ss,mean_infectious_ss,mean_removed_ss])"
   ]
  },
  {
   "cell_type": "code",
   "execution_count": 29,
   "id": "silver-switzerland",
   "metadata": {},
   "outputs": [
    {
     "name": "stdout",
     "output_type": "stream",
     "text": [
      "Calculated posteriors from pilot.                \n",
      "Generated 500 parameter sets.\n",
      "Generated summary statistics\n",
      "Wall time: 1min 42s\n"
     ]
    }
   ],
   "source": [
    "%%time\n",
    "summary_stats,_=ABC.abc_semi_auto(n_obs=30,y_obs=sir_model.observe(),fitting_model=sir_model.copy([1,1,1,1]),\n",
    "                                  priors=sir_priors,distance_measure=ABC.log_l2_norm,n_pilot_samples=50000,n_pilot_acc=5000,n_params_sample_size=500)"
   ]
  },
  {
   "cell_type": "code",
   "execution_count": 24,
   "id": "sufficient-translator",
   "metadata": {},
   "outputs": [
    {
     "name": "stdout",
     "output_type": "stream",
     "text": [
      "(0) *********************************335,593,860.11 (335,593,860.11)\n",
      "(1) *******************************768,850,345.68 (552,222,102.90)\n",
      "(2) *******************************240,086,008.62 (448,176,738.14)\n",
      "(3) *****************************444,848,311.32 (447,344,631.43)\n",
      "(4) *******************************375,208,986.45 (432,917,502.44)\n",
      "\n",
      "Total=432,917,502.44\n",
      "Wall time: 23min 58s\n"
     ]
    },
    {
     "data": {
      "text/plain": [
       "432917502.4369356"
      ]
     },
     "execution_count": 24,
     "metadata": {},
     "output_type": "execute_result"
    }
   ],
   "source": [
    "%%time\n",
    "# Semi-Auto\n",
    "mse_summary_stats(summary_stats)"
   ]
  }
 ],
 "metadata": {
  "kernelspec": {
   "display_name": "Python 3",
   "language": "python",
   "name": "python3"
  },
  "language_info": {
   "codemirror_mode": {
    "name": "ipython",
    "version": 3
   },
   "file_extension": ".py",
   "mimetype": "text/x-python",
   "name": "python",
   "nbconvert_exporter": "python",
   "pygments_lexer": "ipython3",
   "version": "3.7.3"
  }
 },
 "nbformat": 4,
 "nbformat_minor": 5
}
