{
 "cells": [
  {
   "cell_type": "markdown",
   "id": "complimentary-elimination",
   "metadata": {},
   "source": [
    "# Summary Statistic Free ABC Methods\n",
    "\n",
    "EP-ABC (Expectation Propagation) [paper](https://icml.cc/Conferences/2011/papers/217_icmlpaper.pdf).\n",
    "\n",
    "Projection"
   ]
  }
 ],
 "metadata": {
  "kernelspec": {
   "display_name": "Python 3",
   "language": "python",
   "name": "python3"
  },
  "language_info": {
   "codemirror_mode": {
    "name": "ipython",
    "version": 3
   },
   "file_extension": ".py",
   "mimetype": "text/x-python",
   "name": "python",
   "nbconvert_exporter": "python",
   "pygments_lexer": "ipython3",
   "version": "3.7.3"
  }
 },
 "nbformat": 4,
 "nbformat_minor": 5
}
