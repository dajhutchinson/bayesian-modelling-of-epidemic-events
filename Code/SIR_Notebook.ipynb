{
 "cells": [
  {
   "cell_type": "code",
   "execution_count": 1,
   "id": "original-authority",
   "metadata": {},
   "outputs": [],
   "source": [
    "from Models import Model\n",
    "\n",
    "# Size plots\n",
    "import matplotlib.pyplot as plt\n",
    "plt.rcParams['figure.figsize'] = [12, 8]\n",
    "plt.rcParams['figure.dpi'] = 100"
   ]
  },
  {
   "cell_type": "markdown",
   "id": "living-midwest",
   "metadata": {},
   "source": [
    "# SIR Modelling and ABC\n",
    "*Compartmental Models* are a class of mathematical models used for modelling infectious diseases where each member of the population are assigned to different classes. The SIR Model is a compartmental model where members of the population are either **S**usceptible, **I**nfectious or **R**ecovered."
   ]
  },
  {
   "cell_type": "markdown",
   "id": "conceptual-slovenia",
   "metadata": {},
   "source": [
    "**Table of Contents**\n",
    " * [Motivation](#Motivation)\n",
    " * [The SIR Model](#The-SIR-Model)\n",
    "   * [Specification](#Specification)\n",
    "   * [Implementation](#Implementation)\n",
    " * [Discussion](#Discussion)\n",
    " * [SIR and ABC](#SIR-and-ABC)"
   ]
  },
  {
   "cell_type": "markdown",
   "id": "ordinary-panel",
   "metadata": {},
   "source": [
    "## Motivation"
   ]
  },
  {
   "cell_type": "markdown",
   "id": "protecting-aluminum",
   "metadata": {},
   "source": [
    "## The SIR Model\n",
    "Here I present the classical SIR model which uses ordinary differential equations."
   ]
  },
  {
   "cell_type": "markdown",
   "id": "differential-rescue",
   "metadata": {},
   "source": [
    "### Specification\n",
    "\n",
    "Compartmental models are used to model individuals in a population. Each model defines a set of classes which partition the population and defines the mechanics by which individuals can move between populations. Compartmental models are often used to model the spread of something through a population, notably infectious diseases.\n",
    "\n",
    "I shall present the SIR model for the problem of modelling infectious diseases.\n",
    "\n",
    "**Classes**\n",
    "\n",
    "The SIR model is one of the simpliest (but still powerful) compartmental models which uses three classes:\n",
    " * **S**usceptible - Individuals who do not currently have the disease, but could catch it if they came into contact with an infectious person.\n",
    " * **I**nfectious - Individuals who currently have the disease and are able to spread it.\n",
    " * **R**emoved - Individuals who have had the disease in the past and are no longer at risk of infection (either due to death or recovery).\n",
    "\n",
    "For simple models it is assumed that the total population size is constant and no-one enters or leaves the population.\n",
    "\n",
    "In this case of a deadly infectious disease we want to move as many people from the susceptible set to the removed set whilst minimising deaths (A subset of the removed set).\n",
    "\n",
    "**Dynamics**\n",
    "\n",
    "In the simplest SIR only two transitions are modelled\n",
    "\n",
    "$$ \\text{Susceptible}\\to\\text{Infectious}\\to\\text{Removed} $$\n",
    "\n",
    "In more complicated models other transitions are considered such as $ \\text{Susceptible}\\to\\text{Removed} $ due to a vaccination or $ \\text{Removed}\\to\\text{Susceptible} $ due to immunity wearing off.\n",
    "\n",
    "Under the simplest SIR model the transition rate per time-period of $ \\text{Susceptible}\\to\\text{Infectious} $ is stated mathematically as\n",
    "$$ \\frac{dS}{dt}=-\\beta\\frac{SI}{N} $$\n",
    "where\n",
    " * $\\beta$ is the average number of contacts for each infected person in a single time-period multiplied by the probability of a contact becoming infected.\n",
    " * $N$ is the total population size.\n",
    "This result is derived similarly to the *Law of Mass Action* which considers random collision between molecules in chemical reactions.\n",
    " \n",
    "The transition rate per time-period of $ \\text{Infectious}\\to\\text{Removed} $ is stated mathematically as\n",
    "$$ \\frac{dI}{dt}=-\\gamma I $$\n",
    "where\n",
    " * $\\gamma$ is the probability of an individual who is infectious becoming no-longer infectious in a given time-period (either due to death or recovery).\n",
    " \n",
    "With these two transitions we can fully state the SIR model with the following set of ODEs\n",
    "$$\\begin{array}{rcl}\n",
    "    \\frac{dS}{dt}&=&-\\beta\\frac{IS}{N}\\\\\n",
    "    \\frac{dI}{dt}&=&\\beta\\frac{IS}{N}-\\gamma I\\\\\n",
    "    \\frac{dR}{dt}&=&\\gamma I\n",
    "\\end{array}$$\n",
    "\n",
    "Due to the model not allowing for individuals to leave or enter the population, the following results hold\n",
    "$$\\begin{array}{rcl}\n",
    "    \\frac{dS}{dt}+\\frac{dI}{dt}+\\frac{dR}{dt}&=&0\\\\\n",
    "    S(t)+I(t)+R(t)&=&N\n",
    "\\end{array}$$"
   ]
  },
  {
   "cell_type": "markdown",
   "id": "furnished-specific",
   "metadata": {},
   "source": [
    "### Implementation\n",
    "First I implement a deterministic version of the SIR model described [above](#Specification). This is deterministic as the parameters $\\beta,\\gamma$ are taken to be deterministic rather "
   ]
  },
  {
   "cell_type": "code",
   "execution_count": 2,
   "id": "republican-member",
   "metadata": {},
   "outputs": [],
   "source": [
    "class SIRModel(Model):\n",
    "\n",
    "    def __init__(self,params:(int,float,float),n_obs:int):\n",
    "        \"\"\"\n",
    "        DESCRIPTION\n",
    "        Classical SIR model\n",
    "\n",
    "        params ((int,int,float,float)) - (population_size,initial_infectied_population_size,beta,gamma)\n",
    "        n_obs (int) - number of time-periods to run model for\n",
    "        \"\"\"\n",
    "\n",
    "        if (params[0]<params[1]): raise ValueError(\"Number of initially infected individuals cannot be greater than the population size.\")\n",
    "\n",
    "        # all models have the following\n",
    "        self.n_params=4\n",
    "        self.population_size=params[0]\n",
    "        self.initially_infected=params[1]\n",
    "        self.beta=params[2]\n",
    "        self.gamma=params[3]\n",
    "        self.params=params # parameter values\n",
    "        \n",
    "        self.param_labels=[\"Susceptible\",\"Infectious\",\"Removed\"]\n",
    "\n",
    "        self.n_obs=n_obs # number of observations made by `observe`\n",
    "        self.dim_obs=3 # dimension of each observation\n",
    "\n",
    "        self.noise=0 # variance of additive gaussian noise (default=0)\n",
    "\n",
    "    def update_params(self,new_params:[float]):\n",
    "        \"\"\"\n",
    "        DESCRIPTION\n",
    "        update the parameters of the model. the observations for `observe` need to be recalculated\n",
    "\n",
    "        PARAMETERS\n",
    "        new_paramas ([float]) - new parameter values\n",
    "        \"\"\"\n",
    "        if (len(new_params)!=self.n_params): raise ValueError(\"Incorrect number of parameters passed. len(params)!=n_params.\")\n",
    "\n",
    "        self.population_size=new_params[0]\n",
    "        self.initially_infected=new_params[1]\n",
    "        self.beta=new_params[2]\n",
    "        self.gamma=new_params[3]\n",
    "\n",
    "    def observe(self,noise=True) -> [[float]]:\n",
    "        \"\"\"\n",
    "        DESCRIPTION\n",
    "        generate a sequence of `n_obs` observations from the model, each of dimension `dim_obs`.\n",
    "        The same sequence is returned each time this function is called.\n",
    "        sequence is ordered by `x_obs` so is best for `x_obs` to provide a useful ordering.\n",
    "\n",
    "        PARAMETERS\n",
    "        None\n",
    "\n",
    "        RETURNS\n",
    "        [[float]] - sequence of observations\n",
    "        \"\"\"\n",
    "        return self.__calc()\n",
    "\n",
    "    def __calc(self) -> [(int,int,int)]:\n",
    "        \"\"\"\n",
    "        DESCRIPTION\n",
    "        calculate the time-series of observations from the specified SIR model (using ODEs)\n",
    "        \n",
    "        RETURNS\n",
    "        [(int,int,int)] - time-series with each data-point being (S,I,R)\n",
    "        \"\"\"\n",
    "        observations=[(self.population_size-self.initially_infected,self.initially_infected,0)] # [(S,I,R)]\n",
    "\n",
    "        for t in range(self.n_obs-1):\n",
    "            last_obs=observations[-1]\n",
    "\n",
    "            new_infections=int(self.beta*((last_obs[0]*last_obs[1])/self.population_size))\n",
    "            new_removed   =int(self.gamma*last_obs[1])\n",
    "\n",
    "            d_S=-new_infections\n",
    "            d_I=new_infections-new_removed\n",
    "            d_R=new_removed\n",
    "\n",
    "            new_obs=(last_obs[0]+d_S,last_obs[1]+d_I,last_obs[2]+d_R)\n",
    "            observations.append(new_obs)\n",
    "\n",
    "        return observations\n",
    "    \n",
    "    def copy(self,new_params:[float]) -> \"Model\":\n",
    "        \"\"\"\n",
    "        DESCRIPTION\n",
    "        create a copy of the model with new parameter values\n",
    "\n",
    "        PARAMETERS\n",
    "        new_params ([float]) - new parameter values\n",
    "\n",
    "        RETURNS\n",
    "        Model - New copy, with stated parameter values\n",
    "        \"\"\"\n",
    "        if (type(new_params)!=list): raise TypeError(\"`new_params` shoud be a list (not {})\".format(type(new_params)))\n",
    "        if (len(new_params)!=self.n_params): raise TypeError(\"`new_params` shoud of length `n_params` ({})\".format(self.n_params))\n",
    "\n",
    "        new_model=SIRModel(new_params,self.n_obs)\n",
    "        return new_model\n",
    "\n",
    "    def __str__(self) -> str:\n",
    "        printing_str=\"Population Size={:,}\\n\".format(self.population_size)\n",
    "        printing_str+=\"Initially Infected={:,}\\n\".format(self.initially_infected)\n",
    "        printing_str+=\"Beta={:.3f}\\n\".format(self.beta)\n",
    "        printing_str+=\"Gamma={:.3f}\".format(self.gamma)\n",
    "\n",
    "        return printing_str"
   ]
  },
  {
   "cell_type": "markdown",
   "id": "blessed-xerox",
   "metadata": {},
   "source": [
    "For demonstration, below I use my `SIRModel` class to define an SIR model for a population of size 100,000 with 100 initially infected people where each infected person infects one susceptible person per day and each day half the infectious people become removed (i.e. average infection lasts 2 days). I run the model over 30 days."
   ]
  },
  {
   "cell_type": "code",
   "execution_count": 3,
   "id": "jewish-warner",
   "metadata": {},
   "outputs": [
    {
     "name": "stdout",
     "output_type": "stream",
     "text": [
      "Population Size=100,000\n",
      "Initially Infected=100\n",
      "Beta=1.000\n",
      "Gamma=0.500\n"
     ]
    },
    {
     "data": {
      "image/png": "[encoded data removed]",
      "text/plain": [
       "<Figure size 1200x800 with 3 Axes>"
      ]
     },
     "metadata": {
      "needs_background": "light"
     },
     "output_type": "display_data"
    }
   ],
   "source": [
    "sir_model=SIRModel(params=[100000,100,1,.5],n_obs=30)\n",
    "print(sir_model)\n",
    "sir_model.plot_obs(constant_scale=True)"
   ]
  },
  {
   "cell_type": "markdown",
   "id": "executive-lighting",
   "metadata": {},
   "source": [
    "These plots above show that under these conditions\n",
    " * The size of the infectious population never exceeds 20,000.\n",
    " * The pandemic is almost complete after the 30 days.\n",
    " * ~80% of the population ends up being removed. Meaning ~80% of the population become infected in this 30 day period."
   ]
  },
  {
   "cell_type": "markdown",
   "id": "swedish-anderson",
   "metadata": {},
   "source": [
    "## Discussion\n",
    "\n",
    "Limitations\n",
    " * TODO\n",
    "\n",
    "Extensions\n",
    " * Stochastic SIR model\n",
    " * Non-constant population size\n",
    " * $\\beta,\\gamma$ vary over time (ie seasonally)."
   ]
  },
  {
   "cell_type": "markdown",
   "id": "configured-current",
   "metadata": {},
   "source": [
    "## SIR and ABC"
   ]
  },
  {
   "cell_type": "code",
   "execution_count": null,
   "id": "framed-donor",
   "metadata": {},
   "outputs": [],
   "source": []
  }
 ],
 "metadata": {
  "kernelspec": {
   "display_name": "Python 3",
   "language": "python",
   "name": "python3"
  },
  "language_info": {
   "codemirror_mode": {
    "name": "ipython",
    "version": 3
   },
   "file_extension": ".py",
   "mimetype": "text/x-python",
   "name": "python",
   "nbconvert_exporter": "python",
   "pygments_lexer": "ipython3",
   "version": "3.7.3"
  }
 },
 "nbformat": 4,
 "nbformat_minor": 5
}
