{
 "cells": [
  {
   "cell_type": "code",
   "execution_count": 1,
   "id": "further-russell",
   "metadata": {},
   "outputs": [],
   "source": [
    "from scipy import stats\n",
    "import numpy as np\n",
    "\n",
    "import ABC,ABC_Cross_Validation\n",
    "from Models import LinearModel,ExponentialModel,SIRModel"
   ]
  },
  {
   "cell_type": "markdown",
   "id": "beautiful-conversion",
   "metadata": {},
   "source": [
    "# Validation\n",
    "Here I apply Leave-one-Out Cross-Validation to compare the variations on ABC methods I have applied\n",
    "\n",
    "**Leave-one-Out Cross-Validation**\n",
    "\n",
    "Cross-Validation allows us to compare the performance of different machine learning methods.\n",
    "\n",
    "Leave-one-Out Cross-Validation involves\n",
    "<ol>\n",
    "    <li>Selecting one element $(x,y)$ from the training set ($(x_obs,y_obs)$).</li>\n",
    "    <li>Training the model using the whole training set except $(x,y)$.</li>\n",
    "    <li>Evaluating the models prediction for $(x,y)$. (e.g. RMSE)</li>\n",
    "    <li>Repeating 1.-3. leaving a different data-point out each time.</li>\n",
    "    <li>Choose model with the lowest total error.</li>\n",
    "</ol>\n",
    "\n",
    "\n"
   ]
  },
  {
   "cell_type": "markdown",
   "id": "ordered-muslim",
   "metadata": {},
   "source": [
    "**Table of Contents**\n",
    " * [Linear Model](#Linear-Model)\n",
    "     * [ABC-Rejection](#linear-rejection)\n",
    "     * [ABC-MCMC](#linear-mcmc)\n",
    "     * [ABC-SMC](#linear-smc)\n",
    " * [Exponential Model](#Exponential-Model)\n",
    "     * [ABC-Rejection](#exponential-rejection)\n",
    "     * [ABC-MCMC](#exponential-mcmc)\n",
    "     * [ABC-SMC](#exponential-smc)\n",
    " * [SIR Model](#SIR-Model)\n",
    "     * [ABC-Rejection](#sir-rejection)\n",
    "     * [ABC-MCMC](#sir-mcmc)\n",
    "     * [ABC-SMC](#sir-smc)"
   ]
  },
  {
   "cell_type": "markdown",
   "id": "discrete-public",
   "metadata": {},
   "source": [
    "## Linear Model"
   ]
  },
  {
   "cell_type": "code",
   "execution_count": 2,
   "id": "settled-circumstances",
   "metadata": {},
   "outputs": [],
   "source": [
    "np.random.seed(16111998) # Fix random seed\n",
    "lm=LinearModel(  # 1+10x\n",
    "    n_params=2,\n",
    "    params=[1,10],\n",
    "    n_vars=1,\n",
    "    n_obs=10,\n",
    "    x_obs=[[x] for x in range(10)],\n",
    "    noise=30\n",
    "    )\n",
    "lm_priors=[stats.uniform(0,6),stats.uniform(8,6)]"
   ]
  },
  {
   "cell_type": "code",
   "execution_count": 3,
   "id": "historic-header",
   "metadata": {},
   "outputs": [
    {
     "data": {
      "image/png": "[encoded data removed]",
      "text/plain": [
       "<Figure size 432x288 with 1 Axes>"
      ]
     },
     "metadata": {
      "needs_background": "light"
     },
     "output_type": "display_data"
    }
   ],
   "source": [
    "lm.plot_obs()"
   ]
  },
  {
   "cell_type": "code",
   "execution_count": 4,
   "id": "standard-clerk",
   "metadata": {},
   "outputs": [],
   "source": [
    "start = (lambda ys:[10*ys[0][0]])\n",
    "mean_grad = (lambda ys:[np.mean([ys[i+1][0]-ys[i][0] for i in range(len(ys)-1)])])\n",
    "summary_stats=[start,mean_grad]"
   ]
  },
  {
   "cell_type": "markdown",
   "id": "color-validation",
   "metadata": {},
   "source": [
    "<a id=\"linear-rejection\"></a>"
   ]
  },
  {
   "cell_type": "code",
   "execution_count": 5,
   "id": "superior-demonstration",
   "metadata": {},
   "outputs": [
    {
     "name": "stdout",
     "output_type": "stream",
     "text": [
      "1/10. Predicted -  [13.423990460735741] . Actual -  [6.582033773389246] . Error - 6.842\n",
      "2/10. Predicted -  [24.282673109287565] . Actual -  [19.352977309887507] . Error - 4.930\n",
      "3/10. Predicted -  [34.592084021505826] . Actual -  [23.073409099211318] . Error - 11.519\n",
      "4/10. Predicted -  [45.729993296872834] . Actual -  [42.002592041406075] . Error - 3.727\n",
      "5/10. Predicted -  [56.346769149863285] . Actual -  [46.240787044118285] . Error - 10.106\n",
      "6/10. Predicted -  [67.03125111616018] . Actual -  [56.52241872907294] . Error - 10.509\n",
      "7/10. Predicted -  [76.13188594378798] . Actual -  [75.75469430652853] . Error - 0.377\n",
      "8/10. Predicted -  [88.72039059905147] . Actual -  [89.52725765204846] . Error - 0.807\n",
      "9/10. Predicted -  [100.45481943057402] . Actual -  [96.057868970883] . Error - 4.397\n",
      "Total error : 53.214\n",
      "Wall time: 4min 16s\n"
     ]
    }
   ],
   "source": [
    "%%time\n",
    "np.random.seed(16111998) # Fix random seed\n",
    "sampling_details={\"sampling_method\":\"best\",\"num_runs\":3500,\"sample_size\":350}\n",
    "error=ABC_Cross_Validation.LOO_CV_abc_rejection(n_obs=10,x_obs=lm.x_obs,y_obs=lm.observe(),fitting_model=lm.copy([1,1]),priors=lm_priors,sampling_details=sampling_details,summary_stats=summary_stats)\n",
    "print(\"Total error : {:,.3f}\".format(error))"
   ]
  },
  {
   "cell_type": "markdown",
   "id": "baking-chrome",
   "metadata": {},
   "source": [
    "<a id=\"linear-mcmc\"></a>"
   ]
  },
  {
   "cell_type": "code",
   "execution_count": 6,
   "id": "naval-account",
   "metadata": {},
   "outputs": [
    {
     "name": "stdout",
     "output_type": "stream",
     "text": [
      "1/10. Predicted -  [13.222305396616704] . Actual -  [6.582033773389246] . Error - 6.640\n",
      "2/10. Predicted -  [24.113430346773747] . Actual -  [19.352977309887507] . Error - 4.760\n",
      "3/10. Predicted -  [35.92309144137307] . Actual -  [23.073409099211318] . Error - 12.850\n",
      "4/10. Predicted -  [45.361551202271] . Actual -  [42.002592041406075] . Error - 3.359\n",
      "5/10. Predicted -  [55.531969630622925] . Actual -  [46.240787044118285] . Error - 9.291\n",
      "6/10. Predicted -  [67.05826965491384] . Actual -  [56.52241872907294] . Error - 10.536\n",
      "7/10. Predicted -  [77.30291319344317] . Actual -  [75.75469430652853] . Error - 1.548\n",
      "8/10. Predicted -  [86.00448200744677] . Actual -  [89.52725765204846] . Error - 3.523\n",
      "9/10. Predicted -  [101.6202730505271] . Actual -  [96.057868970883] . Error - 5.562\n",
      "Total error : 58.070\n",
      "Wall time: 4min 41s\n"
     ]
    }
   ],
   "source": [
    "%%time\n",
    "np.random.seed(16111998) # Fix random seed\n",
    "perturbance_kernels = [lambda x:x+stats.norm(0,.5).rvs(1)[0]]*2\n",
    "\n",
    "error=ABC_Cross_Validation.LOO_CV_abc_mcmc(n_obs=10,x_obs=lm.x_obs,y_obs=lm.observe(),\n",
    "    fitting_model=lm.copy([1,1]),priors=lm_priors,perturbance_kernels=perturbance_kernels,\n",
    "    acceptance_kernel=ABC.uniform_kernel,scaling_factor=4,chain_length=3500,summary_stats=summary_stats)\n",
    "print(\"Total error : {:,.3f}\".format(error))"
   ]
  },
  {
   "cell_type": "markdown",
   "id": "gross-lingerie",
   "metadata": {},
   "source": [
    "<a id=\"linear-smc\"></a>"
   ]
  },
  {
   "cell_type": "code",
   "execution_count": 7,
   "id": "instructional-passenger",
   "metadata": {},
   "outputs": [
    {
     "name": "stdout",
     "output_type": "stream",
     "text": [
      "(627) - 50/50/50\n",
      "(4/5 - 1,501) - 49/50 (6.000)\n",
      "Total Simulations - 3,587\n",
      "theta_hat - [2.1320786725059278, 10.111462420821875]\n",
      "Predicted -  [12.243541093327803] . Actual -  [6.582033773389246] . Error - 5.662\n",
      "(922) - 50/50/50\n",
      "(4/5 - 1,861) - 49/50 (6.000)\n",
      "Total Simulations - 4,967\n",
      "theta_hat - [1.5727794504426507, 10.238022163713769]\n",
      "Predicted -  [22.048823777870187] . Actual -  [19.352977309887507] . Error - 2.696\n",
      "(683) - 50/50/50\n",
      "(4/5 - 926) - 49/50 (6.000)\n",
      "Total Simulations - 2,696\n",
      "theta_hat - [2.406377487281877, 10.069996703554036]\n",
      "Predicted -  [32.616367597943984] . Actual -  [23.073409099211318] . Error - 9.543\n",
      "(607) - 50/50/50\n",
      "(4/5 - 1,683) - 49/50 (6.000)\n",
      "Total Simulations - 3,910\n",
      "theta_hat - [1.1309739564146903, 10.22541218276422]\n",
      "Predicted -  [42.03262268747157] . Actual -  [42.002592041406075] . Error - 0.030\n",
      "(571) - 50/50/50\n",
      "(4/5 - 1,423) - 49/50 (6.000)\n",
      "Total Simulations - 3,185\n",
      "theta_hat - [1.0886130444451592, 10.329348373119759]\n",
      "Predicted -  [52.73535491004395] . Actual -  [46.240787044118285] . Error - 6.495\n",
      "(644) - 50/50/50\n",
      "(4/5 - 1,389) - 49/50 (6.000)\n",
      "Total Simulations - 3,565\n",
      "theta_hat - [1.4907988518306865, 10.207734567207673]\n",
      "Predicted -  [62.73720625507673] . Actual -  [56.52241872907294] . Error - 6.215\n",
      "(797) - 50/50/50\n",
      "(4/5 - 1,464) - 49/50 (6.000)\n",
      "Total Simulations - 3,850\n",
      "theta_hat - [1.410803157438218, 9.9974907117089]\n",
      "Predicted -  [71.39323813940052] . Actual -  [75.75469430652853] . Error - 4.361\n",
      "(580) - 50/50/50\n",
      "(4/5 - 971) - 49/50 (6.000)\n",
      "Total Simulations - 2,844\n",
      "theta_hat - [1.636136325758318, 9.818647114226899]\n",
      "Predicted -  [80.1853132395735] . Actual -  [89.52725765204846] . Error - 9.342\n",
      "(531) - 50/50/50\n",
      "(4/5 - 1,801) - 49/50 (6.000)\n",
      "Total Simulations - 4,544\n",
      "theta_hat - [2.453141237071111, 10.004634138196076]\n",
      "Predicted -  [92.4948484808358] . Actual -  [96.057868970883] . Error - 3.563\n",
      "Total error : 47.906\n",
      "Wall time: 7min 3s\n"
     ]
    }
   ],
   "source": [
    "%%time\n",
    "np.random.seed(16111998) # Fix random seed\n",
    "scaling_factors=list(np.linspace(10,6,5))\n",
    "\n",
    "perturbance_variance=.1\n",
    "\n",
    "perturbance_kernels = [lambda x:x+stats.norm(0,perturbance_variance).rvs(1)[0]]*2\n",
    "perturbance_kernel_probability = [lambda x,y:stats.norm(0,perturbance_variance).pdf(x-y)]\n",
    "\n",
    "error=ABC_Cross_Validation.LOO_CV_abc_smc(n_obs=10,x_obs=lm.x_obs,y_obs=lm.observe(),fitting_model=lm.copy([1,1]),priors=lm_priors,\n",
    "        perturbance_kernels=perturbance_kernels,perturbance_kernel_probability=perturbance_kernel_probability,acceptance_kernel=ABC.gaussian_kernel,scaling_factors=scaling_factors,\n",
    "        num_steps=5,sample_size=50,summary_stats=summary_stats)\n",
    "print(\"Total error : {:,.3f}\".format(error))"
   ]
  },
  {
   "cell_type": "markdown",
   "id": "cleared-school",
   "metadata": {},
   "source": [
    "## Exponential Model"
   ]
  },
  {
   "cell_type": "code",
   "execution_count": 5,
   "id": "compound-consortium",
   "metadata": {},
   "outputs": [],
   "source": [
    "# Specify the model\n",
    "np.random.seed(16111998) # Fix random seed\n",
    "em=ExponentialModel(\n",
    "    params=[2,.3],\n",
    "    n_obs=10,\n",
    "    x_obs=[[x] for x in range(10)],\n",
    "    noise=.1,\n",
    ")"
   ]
  },
  {
   "cell_type": "code",
   "execution_count": 6,
   "id": "sapphire-federal",
   "metadata": {},
   "outputs": [
    {
     "data": {
      "image/png": "[encoded data removed]",
      "text/plain": [
       "<Figure size 432x288 with 1 Axes>"
      ]
     },
     "metadata": {
      "needs_background": "light"
     },
     "output_type": "display_data"
    }
   ],
   "source": [
    "# Plot the observations\n",
    "em.plot_obs()"
   ]
  },
  {
   "cell_type": "code",
   "execution_count": 7,
   "id": "vital-buying",
   "metadata": {},
   "outputs": [],
   "source": [
    "em_priors=[stats.uniform(0,3),stats.uniform(0,1)]"
   ]
  },
  {
   "cell_type": "code",
   "execution_count": 8,
   "id": "marked-campus",
   "metadata": {},
   "outputs": [],
   "source": [
    "# Define summary statistics\n",
    "start = (lambda ys:[ys[0][0]])\n",
    "mean_log_grad = (lambda ys:[10*np.mean([np.log(max(1,ys[i+1][0]-ys[i][0])) for i in range(len(ys)-1)])])\n",
    "summary_stats=[start,mean_log_grad]"
   ]
  },
  {
   "cell_type": "markdown",
   "id": "institutional-porter",
   "metadata": {},
   "source": [
    "<a id=\"exponential-rejection\"></a>"
   ]
  },
  {
   "cell_type": "code",
   "execution_count": 14,
   "id": "economic-bottle",
   "metadata": {},
   "outputs": [
    {
     "name": "stdout",
     "output_type": "stream",
     "text": [
      "0/10. Predicted -  [2.55603604] . Actual -  [3.11258724] . Error - 0.557\n",
      "1/10. Predicted -  [3.02092325] . Actual -  [3.09478741] . Error - 0.074\n",
      "2/10. Predicted -  [3.43942115] . Actual -  [3.7270279] . Error - 0.288\n",
      "3/10. Predicted -  [4.10763407] . Actual -  [4.00196117] . Error - 0.106\n",
      "4/10. Predicted -  [5.09811393] . Actual -  [5.3780016] . Error - 0.280\n",
      "5/10. Predicted -  [6.3280892] . Actual -  [6.20691578] . Error - 0.121\n",
      "6/10. Predicted -  [7.69860845] . Actual -  [7.79113419] . Error - 0.093\n",
      "7/10. Predicted -  [10.05630072] . Actual -  [10.44068232] . Error - 0.384\n",
      "8/10. Predicted -  [12.87345332] . Actual -  [13.51549783] . Error - 0.642\n",
      "9/10. Predicted -  [17.67183997] . Actual -  [17.17174793] . Error - 0.500\n",
      "Total error : 3.044\n",
      "Wall time: 4min 24s\n"
     ]
    }
   ],
   "source": [
    "%%time\n",
    "np.random.seed(16111998) # Fix random seed\n",
    "sampling_details={\"sampling_method\":\"best\",\"num_runs\":3500,\"sample_size\":350}\n",
    "error=ABC_Cross_Validation.LOO_CV_abc_rejection(n_obs=10,x_obs=em.x_obs,y_obs=em.observe(),fitting_model=em.copy([1,1]),priors=em_priors,sampling_details=sampling_details,summary_stats=summary_stats)\n",
    "print(\"Total error : {:,.3f}\".format(error))"
   ]
  },
  {
   "cell_type": "markdown",
   "id": "looking-chosen",
   "metadata": {},
   "source": [
    "<a id=\"exponential-mcmc\"></a>"
   ]
  },
  {
   "cell_type": "code",
   "execution_count": 9,
   "id": "permanent-andorra",
   "metadata": {},
   "outputs": [
    {
     "name": "stdout",
     "output_type": "stream",
     "text": [
      "Found Start - (46)5,2.139)                                           [0.8649966997090638, 0.29866811795554515]\n",
      "0.212 observations were new.\n",
      "Predicted -  [2.38283625] . Actual -  [3.11258724] . Error - 0.730\n",
      "Found Start - (3) [2.6456318735105295, 0.316861602985829]           \n",
      "0.211 observations were new.\n",
      "Predicted -  [2.90511616] . Actual -  [3.09478741] . Error - 0.190\n",
      "Found Start - (3) [2.3552949968959696, 0.25405053358898544]         \n",
      "0.226 observations were new.\n",
      "Predicted -  [3.8986815] . Actual -  [3.7270279] . Error - 0.172\n",
      "Found Start - (5) [1.1387935968338045, 0.33402081123874017]         \n",
      "0.196 observations were new.\n",
      "Predicted -  [3.77494031] . Actual -  [4.00196117] . Error - 0.227\n",
      "Found Start - (13) [2.277647213673055, 0.3403426857505998]          \n",
      "0.231 observations were new.\n",
      "Predicted -  [5.07306972] . Actual -  [5.3780016] . Error - 0.305\n",
      "Found Start - (6) [0.6339765524844626, 0.3212972426304129]          \n",
      "0.216 observations were new.\n",
      "Predicted -  [5.74064636] . Actual -  [6.20691578] . Error - 0.466\n",
      "Found Start - (1) [0.9875460253801253, 0.29432916521198094]         \n",
      "0.190 observations were new.\n",
      "Predicted -  [7.00951278] . Actual -  [7.79113419] . Error - 0.782\n",
      "Found Start - (23) [1.7469619736372306, 0.34818640871034434]        \n",
      "0.295 observations were new.\n",
      "Predicted -  [9.77214802] . Actual -  [10.44068232] . Error - 0.669\n",
      "Found Start - (27) [2.0319637996910074, 0.24632097884932347]        \n",
      "0.305 observations were new.\n",
      "Predicted -  [12.21736278] . Actual -  [13.51549783] . Error - 1.298\n",
      "Found Start - (7) [2.0624183994894096, 0.22017996899565295]         \n",
      "0.321 observations were new.\n",
      "Predicted -  [13.58196303] . Actual -  [17.17174793] . Error - 3.590\n",
      "Total error : 8.427\n",
      "Wall time: 6min 8s\n"
     ]
    }
   ],
   "source": [
    "%%time\n",
    "np.random.seed(16111998) # Fix random seed\n",
    "perturbance_kernels = [lambda x:x+stats.norm(0,.1).rvs(1)[0]]*2\n",
    "\n",
    "error=ABC_Cross_Validation.LOO_CV_abc_mcmc(n_obs=10,x_obs=em.x_obs,y_obs=em.observe(),\n",
    "    fitting_model=em.copy([1,1]),priors=em_priors,perturbance_kernels=perturbance_kernels,\n",
    "    acceptance_kernel=ABC.gaussian_kernel,scaling_factor=2,chain_length=3500,summary_stats=summary_stats)\n",
    "print(\"Total error : {:,.3f}\".format(error))"
   ]
  },
  {
   "cell_type": "markdown",
   "id": "italian-recipe",
   "metadata": {},
   "source": [
    "<a id=\"exponential-smc\"></a>"
   ]
  },
  {
   "cell_type": "code",
   "execution_count": 15,
   "id": "blond-encoding",
   "metadata": {},
   "outputs": [
    {
     "name": "stdout",
     "output_type": "stream",
     "text": [
      "(1,007) - 50/500\n",
      "(2/3 - 1,936) - 49/50 (1.000)\n",
      "Total Simulations - 3,339\n",
      "theta_hat - [1.754750170963507, 0.3032985509299142]\n",
      "Predicted -  [2.75475017] . Actual -  [3.11258724] . Error - 0.358\n",
      "(1,029) - 50/500\n",
      "(2/3 - 3,212) - 49/50 (1.000)\n",
      "Total Simulations - 4,708\n",
      "theta_hat - [1.8597503110791884, 0.30551462405824464]\n",
      "Predicted -  [3.21707365] . Actual -  [3.09478741] . Error - 0.122\n",
      "(1,146) - 50/500\n",
      "(2/3 - 2,931) - 49/50 (1.000)\n",
      "Total Simulations - 4,550\n",
      "theta_hat - [1.8199866207278785, 0.3031535687712366]\n",
      "Predicted -  [3.65363409] . Actual -  [3.7270279] . Error - 0.073\n",
      "(1,400) - 50/500\n",
      "(2/3 - 2,737) - 49/50 (1.000)\n",
      "Total Simulations - 4,810\n",
      "theta_hat - [2.056159009249509, 0.30184868385068947]\n",
      "Predicted -  [4.5294411] . Actual -  [4.00196117] . Error - 0.527\n",
      "(1,285) - 50/500\n",
      "(2/3 - 2,285) - 49/50 (1.000)\n",
      "Total Simulations - 4,158\n",
      "theta_hat - [1.9339586082188367, 0.30296938878951646]\n",
      "Predicted -  [5.29374553] . Actual -  [5.3780016] . Error - 0.084\n",
      "(981) - 50/50/50\n",
      "(2/3 - 2,884) - 49/50 (1.000)\n",
      "Total Simulations - 4,271\n",
      "theta_hat - [1.8364261545956162, 0.3044725533861939]\n",
      "Predicted -  [6.41946722] . Actual -  [6.20691578] . Error - 0.213\n",
      "(1,059) - 50/500\n",
      "(2/3 - 2,668) - 49/50 (1.000)\n",
      "Total Simulations - 4,263\n",
      "theta_hat - [1.8492133220610822, 0.3036451949556312]\n",
      "Predicted -  [8.03263118] . Actual -  [7.79113419] . Error - 0.241\n",
      "(972) - 50/50/50\n",
      "(2/3 - 1,853) - 49/50 (1.000)\n",
      "Total Simulations - 3,287\n",
      "theta_hat - [1.822064026048041, 0.3027068728508329]\n",
      "Predicted -  [10.14444268] . Actual -  [10.44068232] . Error - 0.296\n",
      "(736) - 50/50/50\n",
      "(2/3 - 2,679) - 49/50 (1.000)\n",
      "Total Simulations - 3,844\n",
      "theta_hat - [1.7511931429849308, 0.30467658030822575]\n",
      "Predicted -  [13.1945874] . Actual -  [13.51549783] . Error - 0.321\n",
      "(676) - 50/50/50\n",
      "(2/3 - 2,117) - 49/50 (1.000)\n",
      "Total Simulations - 3,167\n",
      "theta_hat - [1.7799329808127224, 0.30562481029617045]\n",
      "Predicted -  [17.43231784] . Actual -  [17.17174793] . Error - 0.261\n",
      "Total error : 2.497\n",
      "Wall time: 8min 23s\n"
     ]
    }
   ],
   "source": [
    "%%time\n",
    "np.random.seed(16111998) # Fix random seed\n",
    "scaling_factors=list(np.linspace(4,1,3))\n",
    "\n",
    "perturbance_variance=.1\n",
    "\n",
    "perturbance_kernels = [lambda x:x+stats.norm(0,perturbance_variance).rvs(1)[0]]*2\n",
    "perturbance_kernel_probability = [lambda x,y:stats.norm(0,perturbance_variance).pdf(x-y)]\n",
    "\n",
    "error=ABC_Cross_Validation.LOO_CV_abc_smc(n_obs=10,x_obs=em.x_obs,y_obs=em.observe(),fitting_model=em.copy([1,1]),priors=em_priors,\n",
    "        perturbance_kernels=perturbance_kernels,perturbance_kernel_probability=perturbance_kernel_probability,acceptance_kernel=ABC.gaussian_kernel,scaling_factors=scaling_factors,\n",
    "        num_steps=3,sample_size=50,summary_stats=summary_stats)\n",
    "print(\"Total error : {:,.3f}\".format(error))"
   ]
  },
  {
   "cell_type": "markdown",
   "id": "established-tobago",
   "metadata": {},
   "source": [
    "## SIR Model"
   ]
  },
  {
   "cell_type": "code",
   "execution_count": 22,
   "id": "controversial-domestic",
   "metadata": {},
   "outputs": [],
   "source": [
    "sir_model=SIRModel(\n",
    "    params=[100000,100,1,.5],\n",
    "    n_obs=30,\n",
    "    x_obs=[[x] for x in range(30)],)\n",
    "sir_priors=[stats.uniform(100000,0),stats.uniform(100,0),stats.uniform(0,1.5),stats.uniform(0,2)]\n",
    "sir_smc_priors=[stats.uniform(100000,1),stats.uniform(100,1),stats.uniform(0,1.5),stats.uniform(0,2)]"
   ]
  },
  {
   "cell_type": "code",
   "execution_count": 23,
   "id": "illegal-blair",
   "metadata": {},
   "outputs": [
    {
     "data": {
      "image/png": "[encoded data removed]",
      "text/plain": [
       "<Figure size 432x288 with 3 Axes>"
      ]
     },
     "metadata": {
      "needs_background": "light"
     },
     "output_type": "display_data"
    }
   ],
   "source": [
    "sir_model.plot_obs(constant_scale=True)"
   ]
  },
  {
   "cell_type": "code",
   "execution_count": 24,
   "id": "mexican-edwards",
   "metadata": {},
   "outputs": [],
   "source": [
    "peak_infections_date_ss=(lambda ys:[1000*ys.index(max(ys,key=lambda y:y[1]))])\n",
    "peak_infections_value_ss=(lambda ys:[max(ys,key=lambda y:y[1])[1]])\n",
    "summary_stats=[peak_infections_date_ss,peak_infections_value_ss]"
   ]
  },
  {
   "cell_type": "markdown",
   "id": "verified-element",
   "metadata": {},
   "source": [
    "<a id=\"sir-rejection\"></a>"
   ]
  },
  {
   "cell_type": "code",
   "execution_count": 5,
   "id": "valid-playing",
   "metadata": {},
   "outputs": [
    {
     "name": "stdout",
     "output_type": "stream",
     "text": [
      "0/30. Actual -  (99900.0, 100.0, 0) . Predicted -  (99900, 100, 0) . Error - 0.000\n",
      "1/30. Actual -  (99793.0, 154.0, 53) . Predicted -  (99801, 149, 50) . Error - 9.899\n",
      "2/30. Actual -  (99639.0, 234.0, 127) . Predicted -  (99653, 223, 124) . Error - 18.055\n",
      "3/30. Actual -  (99391.0, 361.0, 248) . Predicted -  (99431, 334, 235) . Error - 49.980\n",
      "4/30. Actual -  (99034.0, 540.0, 426) . Predicted -  (99099, 499, 402) . Error - 80.511\n",
      "5/30. Actual -  (98430.0, 833.0, 737) . Predicted -  (98605, 744, 651) . Error - 214.341\n",
      "6/30. Actual -  (97593.0, 1252.0, 1155) . Predicted -  (97872, 1105, 1023) . Error - 341.868\n",
      "7/30. Actual -  (96323.0, 1886.0, 1791) . Predicted -  (96791, 1634, 1575) . Error - 573.746\n",
      "8/30. Actual -  (94644.0, 2674.0, 2682) . Predicted -  (95210, 2398, 2392) . Error - 693.276\n",
      "9/30. Actual -  (91428.0, 4260.0, 4312) . Predicted -  (92927, 3482, 3591) . Error - 1836.335\n",
      "10/30. Actual -  (87326.0, 6128.0, 6546) . Predicted -  (89692, 4976, 5332) . Error - 2898.078\n",
      "11/30. Actual -  (79807.0, 9453.0, 10740) . Predicted -  (85229, 6951, 7820) . Error - 6647.141\n",
      "12/30. Actual -  (71865.0, 12828.0, 15307) . Predicted -  (79305, 9400, 11295) . Error - 9121.454\n",
      "13/30. Actual -  (62190.0, 15638.0, 22172) . Predicted -  (71851, 12154, 15995) . Error - 11984.511\n",
      "14/30. Actual -  (52448.0, 18209.0, 29343) . Predicted -  (63119, 14809, 22072) . Error - 13352.816\n",
      "15/30. Actual -  (42173.0, 18310.0, 39517) . Predicted -  (53772, 16752, 29476) . Error - 15420.306\n",
      "16/30. Actual -  (36053.0, 16470.0, 47477) . Predicted -  (44765, 17383, 37852) . Error - 13014.344\n",
      "17/30. Actual -  (30910.0, 15205.0, 53885) . Predicted -  (36984, 16473, 46543) . Error - 9612.818\n",
      "18/30. Actual -  (26284.0, 12296.0, 61420) . Predicted -  (30892, 14329, 54779) . Error - 8334.845\n",
      "19/30. Actual -  (22298.0, 8492.0, 69210) . Predicted -  (26466, 11591, 61943) . Error - 8932.263\n",
      "20/30. Actual -  (20837.0, 7055.0, 72108) . Predicted -  (23399, 8863, 67738) . Error - 5378.625\n",
      "21/30. Actual -  (19345.0, 4714.0, 75941) . Predicted -  (21326, 6505, 72169) . Error - 4621.691\n",
      "22/30. Actual -  (17238.0, 2961.0, 79801) . Predicted -  (19939, 4640, 75421) . Error - 5412.840\n",
      "23/30. Actual -  (16833.0, 2254.0, 80913) . Predicted -  (19014, 3245, 77741) . Error - 3974.975\n",
      "24/30. Actual -  (17247.0, 1386.0, 81367) . Predicted -  (18397, 2240, 79363) . Error - 2463.297\n",
      "25/30. Actual -  (16374.0, 736.0, 82890) . Predicted -  (17985, 1532, 80483) . Error - 3003.762\n",
      "26/30. Actual -  (16142.0, 548.0, 83310) . Predicted -  (17710, 1041, 81249) . Error - 2636.170\n",
      "27/30. Actual -  (16178.0, 341.0, 83481) . Predicted -  (17526, 705, 81769) . Error - 2209.195\n",
      "28/30. Actual -  (15923.0, 219.0, 83858) . Predicted -  (17403, 476, 82121) . Error - 2296.436\n",
      "29/30. Actual -  (15515.0, 162.0, 84323) . Predicted -  (17321, 320, 82359) . Error - 2672.807\n",
      "Total error : 137,806.385\n",
      "Wall time: 2min 22s\n"
     ]
    }
   ],
   "source": [
    "%%time\n",
    "np.random.seed(16111998) # Fix random seed\n",
    "sampling_details={\"sampling_method\":\"best\",\"num_runs\":10000,\"sample_size\":1000,\"distance_measure\":ABC.log_l2_norm}\n",
    "error=ABC_Cross_Validation.LOO_CV_abc_rejection(n_obs=30,x_obs=sir_model.x_obs,y_obs=sir_model.observe(),fitting_model=sir_model.copy([1,1,1,1]),priors=sir_priors,sampling_details=sampling_details,summary_stats=summary_stats)\n",
    "print(\"Total error : {:,.3f}\".format(error))"
   ]
  },
  {
   "cell_type": "markdown",
   "id": "electronic-greece",
   "metadata": {},
   "source": [
    "<a id=\"sir-mcmc\"></a>"
   ]
  },
  {
   "cell_type": "code",
   "execution_count": 25,
   "id": "informed-invasion",
   "metadata": {
    "scrolled": false
   },
   "outputs": [
    {
     "name": "stdout",
     "output_type": "stream",
     "text": [
      "0/30. Finding Start - (0,100,000,000,000.000)                       \r",
      "Finding Start - (1,31,381.000)                       \r",
      "Finding Start - (2,22,804.000)                       \r",
      "Finding Start - (3,5,862.000)                       \r",
      "Finding Start - (4,2,795.000)                       \r",
      "Finding Start - (5,2,795.000)                       \r",
      "Finding Start - (6,2,795.000)                       \r",
      "Finding Start - (7,2,795.000)                       \r",
      "Finding Start - (8,2,795.000)                       \r",
      "Finding Start - (9,2,795.000)                       \r",
      "Finding Start - (10,2,795.000)                       \r",
      "Finding Start - (11,2,795.000)                       \r",
      "Finding Start - (12,2,795.000)                       \r",
      "Finding Start - (13,2,795.000)                       \r",
      "Finding Start - (14,2,795.000)                       \r",
      "Finding Start - (15,2,795.000)                       \r",
      "Finding Start - (16,2,795.000)                       \r",
      "Finding Start - (17,2,795.000)                       \r",
      "Finding Start - (18,2,795.000)                       \r",
      "Finding Start - (19,2,795.000)                       \r",
      "Finding Start - (20,2,795.000)                       \r",
      "Finding Start - (21,2,795.000)                       \r",
      "Finding Start - (22,2,795.000)                       \r",
      "Finding Start - (23,2,795.000)                       \r",
      "Finding Start - (24,2,795.000)                       \r",
      "Finding Start - (25,2,795.000)                       \r",
      "Finding Start - (26,2,795.000)                       \r",
      "Finding Start - (27,2,795.000)                       \r",
      "Finding Start - (28,2,795.000)                       \r",
      "Finding Start - (29,2,795.000)                       \r",
      "Finding Start - (30,2,795.000)                       \r",
      "Finding Start - (31,2,795.000)                       \r",
      "Finding Start - (32,2,795.000)                       \r",
      "Finding Start - (33,2,795.000)                       \r",
      "Finding Start - (34,2,795.000)                       \r",
      "Finding Start - (35,2,795.000)                       \r",
      "Finding Start - (36,2,795.000)                       \r",
      "Finding Start - (37,2,795.000)                       \r",
      "Found Start - (38) [100000.0, 100.0, 1.3327671514871227, 0.7863869995212178]\n",
      "(1) - OLD\r",
      "(2) - OLD\r",
      "(3) - NEW\r",
      "(4) - NEW\r",
      "(5) - OLD\r",
      "(6) - OLD\r",
      "(7) - NEW\r",
      "(8) - OLD\r",
      "(9) - NEW\r",
      "(10) - NEW\r",
      "(11) - OLD\r",
      "(12) - OLD\r",
      "(13) - NEW\r",
      "(14) - OLD\r",
      "(15) - OLD\r",
      "(16) - NEW\r",
      "(17) - OLD\r",
      "(18) - NEW\r",
      "(19) - OLD\r",
      "(20) - OLD\r",
      "(21) - OLD\r",
      "(22) - NEW\r",
      "(23) - OLD\r",
      "(24) - OLD\r",
      "(25) - OLD\r",
      "(26) - NEW\r",
      "(27) - NEW\r",
      "(28) - OLD\r",
      "(29) - NEW\r",
      "(30) - OLD\r",
      "(31) - OLD\r",
      "(32) - OLD\r",
      "(33) - OLD\r",
      "(34) - OLD\r",
      "(35) - NEW\r",
      "(36) - NEW\r",
      "(37) - OLD\r",
      "(38) - OLD\r"
     ]
    },
    {
     "name": "stderr",
     "output_type": "stream",
     "text": [
      "c:\\users\\dom\\appdata\\local\\programs\\python\\python37\\lib\\site-packages\\scipy\\stats\\_distn_infrastructure.py:1835: RuntimeWarning: invalid value encountered in double_scalars\n",
      "  x = np.asarray((x - loc)/scale, dtype=dtyp)\n"
     ]
    },
    {
     "name": "stdout",
     "output_type": "stream",
     "text": [
      "0.310 observations were new.\n",
      "Predicted -  (99900.0, 100.0, 0) . Actual -  (99900, 100, 0) . Error - 0.000\n",
      "Found Start - (8) [100000.0, 100.0, 1.469592080267386, 0.8543276090946885]\n",
      "0.300 observations were new.\n",
      "Predicted -  (99795.0, 151.0, 54) . Actual -  (99801, 149, 50) . Error - 7.483\n",
      "Found Start - (6) [100000.0, 100.0, 0.9392479443066888, 0.4824390115152022]\n",
      "0.321 observations were new.\n",
      "Predicted -  (99616.0, 236.0, 148) . Actual -  (99653, 223, 124) . Error - 45.978\n",
      "Found Start - (24) [100000.0, 100.0, 0.9959953963332167, 0.4556422461016052]\n",
      "0.309 observations were new.\n",
      "Predicted -  (99356.0, 357.0, 287) . Actual -  (99431, 334, 235) . Error - 94.117\n",
      "Found Start - (1) [100000.0, 100.0, 1.0046860086941887, 0.5134541743096133]\n",
      "0.315 observations were new.\n",
      "Predicted -  (98984.0, 540.0, 476) . Actual -  (99099, 499, 402) . Error - 142.766\n",
      "Found Start - (44) [100000.0, 100.0, 1.1512491373861682, 0.6296667419310149]\n",
      "0.307 observations were new.\n",
      "Predicted -  (98332.0, 845.0, 823) . Actual -  (98605, 744, 651) . Error - 338.104\n",
      "Found Start - (106) [100000.0, 100.0, 0.9037295558341338, 0.4587731168855542]\n",
      "0.314 observations were new.\n",
      "Predicted -  (97471.0, 1254.0, 1275) . Actual -  (97872, 1105, 1023) . Error - 496.494\n",
      "Found Start - (32) [100000.0, 100.0, 1.3664033243961244, 0.5945046040023569]\n",
      "0.314 observations were new.\n",
      "Predicted -  (96111.0, 1889.0, 2000) . Actual -  (96791, 1634, 1575) . Error - 841.457\n",
      "Found Start - (18) [100000.0, 100.0, 1.4773144068444, 0.673342675297268]\n",
      "0.305 observations were new.\n",
      "Predicted -  (94328.0, 2721.0, 2951) . Actual -  (95210, 2398, 2392) . Error - 1093.039\n",
      "Found Start - (7) [100000.0, 100.0, 1.2055124731515585, 0.7598194870009529]\n",
      "0.304 observations were new.\n",
      "Predicted -  (91146.0, 4117.0, 4737) . Actual -  (92927, 3482, 3591) . Error - 2210.996\n",
      "Found Start - (2) [100000.0, 100.0, 1.1885128095137323, 0.6060955255045624]\n",
      "0.313 observations were new.\n",
      "Predicted -  (87143.0, 5860.0, 6997) . Actual -  (89692, 4976, 5332) . Error - 3170.344\n",
      "Found Start - (30) [100000.0, 100.0, 1.0841770620496978, 0.5832409351457637]\n",
      "0.316 observations were new.\n",
      "Predicted -  (80792.0, 8302.0, 10906) . Actual -  (85229, 6951, 7820) . Error - 5570.957\n",
      "Found Start - (22) [100000.0, 100.0, 1.1768007577829855, 0.6483898762255946]\n",
      "0.317 observations were new.\n",
      "Predicted -  (72504.0, 11281.0, 16215) . Actual -  (79305, 9400, 11295) . Error - 8602.218\n",
      "Found Start - (30) [100000.0, 100.0, 1.320251200933626, 0.6451467091366847]\n",
      "0.327 observations were new.\n",
      "Predicted -  (64974.0, 13332.0, 21694) . Actual -  (71851, 12154, 15995) . Error - 9008.852\n",
      "Found Start - (7) [100000.0, 100.0, 1.1419615212456868, 0.555021520859176]\n",
      "0.342 observations were new.\n",
      "Predicted -  (53027.0, 16089.0, 30884) . Actual -  (63119, 14809, 22072) . Error - 13458.760\n",
      "Found Start - (65) [100000.0, 100.0, 1.0534889392644655, 0.47930733761321664]\n",
      "0.338 observations were new.\n",
      "Predicted -  (44579.0, 16011.0, 39410) . Actual -  (53772, 16752, 29476) . Error - 13555.246\n",
      "Found Start - (48) [100000.0, 100.0, 1.3109555265962345, 0.5461235098657191]\n",
      "0.365 observations were new.\n",
      "Predicted -  (36515.0, 13467.0, 50018) . Actual -  (44765, 17383, 37852) . Error - 15212.137\n",
      "Found Start - (4) [100000.0, 100.0, 1.434013661876791, 0.8773191163894525]\n",
      "0.303 observations were new.\n",
      "Predicted -  (34202.0, 13234.0, 52564) . Actual -  (36984, 16473, 46543) . Error - 7381.266\n",
      "Found Start - (3) [100000.0, 100.0, 0.6755326331749261, 0.3675026898782572]\n",
      "0.315 observations were new.\n",
      "Predicted -  (28282.0, 10536.0, 61182) . Actual -  (30892, 14329, 54779) . Error - 7886.530\n",
      "Found Start - (4) [100000.0, 100.0, 1.3100268942052087, 0.8955844952763283]\n",
      "0.306 observations were new.\n",
      "Predicted -  (26175.0, 8275.0, 65550) . Actual -  (26466, 11591, 61943) . Error - 4908.257\n",
      "Found Start - (11) [100000.0, 100.0, 1.4514651599419182, 0.8703890370181051]\n",
      "0.305 observations were new.\n",
      "Predicted -  (23254.0, 4631.0, 72115) . Actual -  (23399, 8863, 67738) . Error - 6090.072\n",
      "Found Start - (2) [100000.0, 100.0, 1.147510784415863, 0.5761915880036441]\n",
      "0.316 observations were new.\n",
      "Predicted -  (21666.0, 3709.0, 74625) . Actual -  (21326, 6505, 72169) . Error - 3736.998\n",
      "Found Start - (27) [100000.0, 100.0, 1.453897039567142, 0.6968678897352483]\n",
      "0.295 observations were new.\n",
      "Predicted -  (21410.0, 2628.0, 75962) . Actual -  (19939, 4640, 75421) . Error - 2550.425\n",
      "Found Start - (16) [100000.0, 100.0, 0.8509601827523389, 0.3619815282010399]\n",
      "0.304 observations were new.\n",
      "Predicted -  (19868.0, 1296.0, 78836) . Actual -  (19014, 3245, 77741) . Error - 2393.103\n",
      "Found Start - (21) [100000.0, 100.0, 1.3596786152316076, 0.7968335576962675]\n",
      "0.309 observations were new.\n",
      "Predicted -  (19064.0, 1086.0, 79850) . Actual -  (18397, 2240, 79363) . Error - 1419.075\n",
      "Found Start - (87) [100000.0, 100.0, 1.0377291496300673, 0.5256711431651262]\n",
      "0.323 observations were new.\n",
      "Predicted -  (19290.0, 530.0, 80180) . Actual -  (17985, 1532, 80483) . Error - 1672.973\n",
      "Found Start - (62) [100000.0, 100.0, 1.104509427531394, 0.5363993267421117]\n",
      "0.309 observations were new.\n",
      "Predicted -  (19275.0, 497.0, 80228) . Actual -  (17710, 1041, 81249) . Error - 1946.176\n",
      "Found Start - (78) [100000.0, 100.0, 1.3544348426486703, 0.685811453174271]\n",
      "0.314 observations were new.\n",
      "Predicted -  (18994.0, 220.0, 80786) . Actual -  (17526, 705, 81769) . Error - 1832.086\n",
      "Found Start - (14) [100000.0, 100.0, 1.3081612009517576, 0.682794763669295]\n",
      "0.313 observations were new.\n",
      "Predicted -  (19125.0, 133.0, 80742) . Actual -  (17403, 476, 82121) . Error - 2232.616\n",
      "Found Start - (37) [100000.0, 100.0, 1.2858291021684456, 0.6731389110514809]\n",
      "0.303 observations were new.\n",
      "Predicted -  (19328.0, 126.0, 80546) . Actual -  (17321, 320, 82359) . Error - 2711.578\n",
      "Total error : 120,610.101\n",
      "Wall time: 17min 42s\n"
     ]
    }
   ],
   "source": [
    "%%time\n",
    "np.random.seed(16111998) # Fix random seed\n",
    "perturbance_kernels = [lambda x:x]*2 + [lambda x:x+stats.norm(0,.1).rvs(1)[0]]*2\n",
    "\n",
    "error=ABC_Cross_Validation.LOO_CV_abc_mcmc(n_obs=30,x_obs=sir_model.x_obs,y_obs=sir_model.observe(),\n",
    "    fitting_model=sir_model.copy([1,1,1,1]),priors=sir_priors,perturbance_kernels=perturbance_kernels,\n",
    "    acceptance_kernel=ABC.gaussian_kernel,scaling_factor=5000,chain_length=10000,summary_stats=summary_stats)\n",
    "print(\"Total error : {:,.3f}\".format(error))"
   ]
  },
  {
   "cell_type": "markdown",
   "id": "prostate-knitting",
   "metadata": {},
   "source": [
    "<a id=\"sir-smc\"></a>"
   ]
  },
  {
   "cell_type": "code",
   "execution_count": 7,
   "id": "literary-purchase",
   "metadata": {},
   "outputs": [
    {
     "name": "stdout",
     "output_type": "stream",
     "text": [
      "0/30. Actual -  (99900.1425479657, 100.47813462653332, 0) . Predicted -  (99900, 100, 0) . Error - 0.499\n",
      "1/30. Actual -  (99798.99920403092, 151.54473863718593, 50) . Predicted -  (99801, 149, 50) . Error - 3.237\n",
      "2/30. Actual -  (99654.08385731709, 226.49500573282182, 120) . Predicted -  (99653, 223, 124) . Error - 5.421\n",
      "3/30. Actual -  (99423.13570529704, 340.4867228970296, 237) . Predicted -  (99431, 334, 235) . Error - 10.389\n",
      "4/30. Actual -  (99088.01733063642, 519.5260793982748, 393) . Predicted -  (99099, 499, 402) . Error - 24.959\n",
      "5/30. Actual -  (98589.70037547493, 780.6782773211062, 630) . Predicted -  (98605, 744, 651) . Error - 44.949\n",
      "6/30. Actual -  (97831.3544646986, 1130.3503699755354, 1039) . Predicted -  (97872, 1105, 1023) . Error - 50.504\n",
      "7/30. Actual -  (96715.71016051802, 1716.7908257925576, 1568) . Predicted -  (96791, 1634, 1575) . Error - 112.124\n",
      "8/30. Actual -  (95114.29028863582, 2449.2826006211258, 2437) . Predicted -  (95210, 2398, 2392) . Error - 117.538\n",
      "9/30. Actual -  (92541.77551208898, 3741.580144517735, 3717) . Predicted -  (92927, 3482, 3591) . Error - 481.306\n",
      "10/30. Actual -  (89009.67314580941, 5574.704469587436, 5416) . Predicted -  (89692, 4976, 5332) . Error - 911.632\n",
      "11/30. Actual -  (84539.95089545764, 7428.53102004975, 8032) . Predicted -  (85229, 6951, 7820) . Error - 864.736\n",
      "12/30. Actual -  (76053.08137495721, 11571.407117651179, 12376) . Predicted -  (79305, 9400, 11295) . Error - 4056.913\n",
      "13/30. Actual -  (70738.88625169008, 12960.527585950274, 16301) . Predicted -  (71851, 12154, 15995) . Error - 1407.452\n",
      "14/30. Actual -  (59692.817817173505, 16787.62802148464, 23520) . Predicted -  (63119, 14809, 22072) . Error - 4213.122\n",
      "15/30. Actual -  (54014.045669891, 16898.598558744496, 29088) . Predicted -  (53772, 16752, 29476) . Error - 480.230\n",
      "16/30. Actual -  (41087.88754498371, 19430.41597874666, 39482) . Predicted -  (44765, 17383, 37852) . Error - 4513.310\n",
      "17/30. Actual -  (31507.043360360767, 18503.45103265754, 49990) . Predicted -  (36984, 16473, 46543) . Error - 6782.448\n",
      "18/30. Actual -  (22726.937094181776, 16525.48215688623, 60748) . Predicted -  (30892, 14329, 54779) . Error - 10349.964\n",
      "19/30. Actual -  (21626.085056994372, 12318.315536201852, 66056) . Predicted -  (26466, 11591, 61943) . Error - 6393.007\n",
      "20/30. Actual -  (19928.953418213743, 9478.471567715562, 70593) . Predicted -  (23399, 8863, 67738) . Error - 4535.532\n",
      "21/30. Actual -  (16502.78014975731, 6667.574576215262, 76830) . Predicted -  (21326, 6505, 72169) . Error - 6709.307\n",
      "22/30. Actual -  (20248.94627091562, 4247.537547583481, 75504) . Predicted -  (19939, 4640, 75421) . Error - 506.934\n",
      "23/30. Actual -  (14229.158911651102, 3436.361620997839, 82335) . Predicted -  (19014, 3245, 77741) . Error - 6635.975\n",
      "24/30. Actual -  (15573.047830000345, 2165.508204268306, 82262) . Predicted -  (18397, 2240, 79363) . Error - 4047.772\n",
      "25/30. Actual -  (15248.078360452768, 1461.323847274878, 83291) . Predicted -  (17985, 1532, 80483) . Error - 3921.811\n",
      "26/30. Actual -  (12261.978344183808, 947.5169467799496, 86791) . Predicted -  (17710, 1041, 81249) . Error - 7771.965\n",
      "27/30. Actual -  (16544.276892288573, 768.3009720212249, 82688) . Predicted -  (17526, 705, 81769) . Error - 1346.235\n",
      "28/30. Actual -  (15963.008803717661, 566.551160195133, 83471) . Predicted -  (17403, 476, 82121) . Error - 1975.924\n",
      "29/30. Actual -  (14402.176128364066, 306.48963975789957, 85292) . Predicted -  (17321, 320, 82359) . Error - 4137.899\n",
      "Total error : 82,413.093\n",
      "Wall time: 20min 10s\n"
     ]
    }
   ],
   "source": [
    "%%time\n",
    "np.random.seed(16111998) # Fix random seed\n",
    "perturbance_variance=.1\n",
    "perturbance_kernels = [lambda x:x]*2 + [lambda x:x+stats.norm(0,perturbance_variance).rvs(1)[0]]*2\n",
    "perturbance_kernel_probability = [lambda x,y:1]*2 + [lambda x,y:stats.norm(0,perturbance_variance).pdf(x-y)]*2\n",
    "\n",
    "scaling_factors=list(np.linspace(50000,25000,6))\n",
    "\n",
    "error=ABC_Cross_Validation.LOO_CV_abc_smc(n_obs=30,x_obs=sir_model.x_obs,y_obs=sir_model.observe(),fitting_model=sir_model.copy([1,1,1,1]),priors=sir_smc_priors,\n",
    "        perturbance_kernels=perturbance_kernels,perturbance_kernel_probability=perturbance_kernel_probability,acceptance_kernel=ABC.gaussian_kernel,scaling_factors=scaling_factors,\n",
    "        num_steps=6,sample_size=50,summary_stats=summary_stats)\n",
    "print(\"Total error : {:,.3f}\".format(error))"
   ]
  },
  {
   "cell_type": "markdown",
   "id": "selected-restriction",
   "metadata": {},
   "source": [
    "**Results**\n",
    "\n",
    "| Method \\ Model |  Linear | Exponential | SIR |\n",
    "|----------------|---------|-------------|-----|\n",
    "| ABC-Rejection Sampling | 53 | 3 | 137,806 |\n",
    "| ABC-MCMC | 58 | 8 | 120,610 |\n",
    "| ABC-SMC | 48 | 2 | 82,413 |\n",
    "\n",
    "There is no significant difference in the performance of the different algorithms for the linear model. This is not unsurprising as this is a very simple model and there are better (non-ABC methods) for fitting a linear model.\n",
    "\n",
    "For the exponential model there is a notable improvement in performance when using ABC-MCMC or ABC-SMC over ABC-Rejection Sampling. Likely due to the fact that a small change in the exponent parameter of an exponential model has a greater affect than an equivalent change to the multiplicative factor in a linear model. Thus once a good value is found, it is better to fine-tune that value (as in ABC-MCMC & ABC-SMC) rather than to start another independent search (ABC-Rejection).\n",
    "\n",
    "The results for the SIR model show significant differences between each algorithm, with the ABC-SMC algorithm performing best of all.\n",
    "\n",
    "Naturally, these results are all highly dependent on how the algorithms are implemented and tuned. I set up the algorithms so that they all used ~3,5000 simulations (because time); ABC-rejection used the 10% best; ABC-MCMC accepts ~30% of simulations; and SMC has 5/6 steps."
   ]
  }
 ],
 "metadata": {
  "kernelspec": {
   "display_name": "Python 3",
   "language": "python",
   "name": "python3"
  },
  "language_info": {
   "codemirror_mode": {
    "name": "ipython",
    "version": 3
   },
   "file_extension": ".py",
   "mimetype": "text/x-python",
   "name": "python",
   "nbconvert_exporter": "python",
   "pygments_lexer": "ipython3",
   "version": "3.7.3"
  }
 },
 "nbformat": 4,
 "nbformat_minor": 5
}
