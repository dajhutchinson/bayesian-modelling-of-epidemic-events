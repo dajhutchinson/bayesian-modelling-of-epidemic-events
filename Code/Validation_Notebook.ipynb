{
 "cells": [
  {
   "cell_type": "code",
   "execution_count": 1,
   "id": "interested-replication",
   "metadata": {},
   "outputs": [
    {
     "data": {
      "text/plain": [
       "{'divide': 'warn', 'over': 'warn', 'under': 'ignore', 'invalid': 'warn'}"
      ]
     },
     "execution_count": 1,
     "metadata": {},
     "output_type": "execute_result"
    }
   ],
   "source": [
    "from scipy import stats\n",
    "import numpy as np\n",
    "\n",
    "import ABC,ABC_Cross_Validation\n",
    "from Models import LinearModel,ExponentialModel,SIRModel\n",
    "\n",
    "# silence warnings about dodgy division\n",
    "np.seterr(divide='ignore', invalid='ignore')"
   ]
  },
  {
   "cell_type": "markdown",
   "id": "herbal-letters",
   "metadata": {},
   "source": [
    "# Validation\n",
    "Here I apply Leave-one-Out Cross-Validation to compare the variations on ABC methods I have applied\n",
    "\n",
    "**Leave-one-Out Cross-Validation**\n",
    "\n",
    "Cross-Validation allows us to compare the performance of different machine learning methods.\n",
    "\n",
    "Leave-one-Out Cross-Validation involves\n",
    "<ol>\n",
    "    <li>Selecting one element $(x,y)$ from the training set ($(x_obs,y_obs)$).</li>\n",
    "    <li>Training the model using the whole training set except $(x,y)$.</li>\n",
    "    <li>Evaluating the models prediction for $(x,y)$. (e.g. RMSE)</li>\n",
    "    <li>Repeating 1.-3. leaving a different data-point out each time.</li>\n",
    "    <li>Choose model with the lowest total error.</li>\n",
    "</ol>\n",
    "\n",
    "**AIC Value**\n",
    "\n",
    "$$ AIC=2k-\\ln(\\hat{L}) $$ where $\\hat{L}$ is the maximum value of the likelihood function."
   ]
  },
  {
   "cell_type": "markdown",
   "id": "expired-olympus",
   "metadata": {},
   "source": [
    "**Table of Contents**\n",
    " * [Linear Model](#Linear-Model)\n",
    "     * [ABC-Rejection](#linear-rejection)\n",
    "     * [ABC-MCMC](#linear-mcmc)\n",
    "     * [ABC-SMC](#linear-smc)\n",
    "     * [Adaptive ABC-SMC](#linear-adaptive-smc)\n",
    " * [Exponential Model](#Exponential-Model)\n",
    "     * [ABC-Rejection](#exponential-rejection)\n",
    "     * [ABC-MCMC](#exponential-mcmc)\n",
    "     * [ABC-SMC](#exponential-smc)\n",
    "     * [Adaptive ABC-SMC](#exponential-adaptive-smc)\n",
    " * [SIR Model](#SIR-Model)\n",
    "     * [ABC-Rejection](#sir-rejection)\n",
    "     * [ABC-MCMC](#sir-mcmc)\n",
    "     * [ABC-SMC](#sir-smc)\n",
    "     * [Adaptive ABC-SMC](#sir-adaptive-smc)\n",
    " * [Summary Statistic Selection Methods](#Summary-Statistic-Selection-Methods)\n",
    "     * [Semi-Auto Rejection ABC](#Semi-Automatic-ABC)\n",
    " * [Results](#Results)"
   ]
  },
  {
   "cell_type": "markdown",
   "id": "brutal-easter",
   "metadata": {},
   "source": [
    "## Linear Model"
   ]
  },
  {
   "cell_type": "code",
   "execution_count": 2,
   "id": "smart-fluid",
   "metadata": {},
   "outputs": [],
   "source": [
    "np.random.seed(16111998) # Fix random seed\n",
    "lm=LinearModel(  # 1+10x\n",
    "    n_params=2,\n",
    "    params=[1,10],\n",
    "    n_vars=1,\n",
    "    n_obs=10,\n",
    "    x_obs=[[x] for x in range(10)],\n",
    "    noise=30\n",
    "    )\n",
    "lm_priors=[stats.uniform(0,6),stats.uniform(8,6)]"
   ]
  },
  {
   "cell_type": "code",
   "execution_count": 3,
   "id": "diverse-cooling",
   "metadata": {},
   "outputs": [
    {
     "data": {
      "image/png": "[encoded data removed]",
      "text/plain": [
       "<Figure size 432x288 with 1 Axes>"
      ]
     },
     "metadata": {
      "needs_background": "light"
     },
     "output_type": "display_data"
    }
   ],
   "source": [
    "lm.plot_obs()"
   ]
  },
  {
   "cell_type": "code",
   "execution_count": 4,
   "id": "sonic-james",
   "metadata": {},
   "outputs": [],
   "source": [
    "start = (lambda ys:[10*ys[0][0]])\n",
    "mean_grad = (lambda ys:[np.mean([ys[i+1][0]-ys[i][0] for i in range(len(ys)-1)])])\n",
    "summary_stats=[start,mean_grad]"
   ]
  },
  {
   "cell_type": "markdown",
   "id": "second-aggregate",
   "metadata": {},
   "source": [
    "<a id=\"linear-rejection\"></a>"
   ]
  },
  {
   "cell_type": "code",
   "execution_count": 5,
   "id": "herbal-reset",
   "metadata": {},
   "outputs": [
    {
     "name": "stdout",
     "output_type": "stream",
     "text": [
      "1/10. Predicted - [13.423990460735741]. Actual - [6.582033773389246]. Error - 6.842\n",
      "2/10. Predicted - [24.282673109287565]. Actual - [19.352977309887507]. Error - 4.930\n",
      "3/10. Predicted - [34.592084021505826]. Actual - [23.073409099211318]. Error - 11.519\n",
      "4/10. Predicted - [45.729993296872834]. Actual - [42.002592041406075]. Error - 3.727\n",
      "5/10. Predicted - [56.346769149863285]. Actual - [46.240787044118285]. Error - 10.106\n",
      "6/10. Predicted - [67.03125111616018]. Actual - [56.52241872907294]. Error - 10.509\n",
      "7/10. Predicted - [76.13188594378798]. Actual - [75.75469430652853]. Error - 0.377\n",
      "8/10. Predicted - [88.72039059905147]. Actual - [89.52725765204846]. Error - 0.807\n",
      "9/10. Predicted - [100.45481943057402]. Actual - [96.057868970883]. Error - 4.397\n",
      "Total error : 53.214\n",
      "Wall time: 3min 29s\n"
     ]
    }
   ],
   "source": [
    "%%time\n",
    "np.random.seed(16111998) # Fix random seed\n",
    "sampling_details={\"sampling_method\":\"best\",\"num_runs\":3500,\"sample_size\":350}\n",
    "error=ABC_Cross_Validation.LOO_CV_abc_rejection(n_obs=10,x_obs=lm.x_obs,y_obs=lm.observe(),fitting_model=lm.copy([1,1]),priors=lm_priors,sampling_details=sampling_details,summary_stats=summary_stats)\n",
    "print(\"Total error : {:,.3f}\".format(error))"
   ]
  },
  {
   "cell_type": "markdown",
   "id": "composite-miller",
   "metadata": {},
   "source": [
    "<a id=\"linear-mcmc\"></a>"
   ]
  },
  {
   "cell_type": "code",
   "execution_count": 6,
   "id": "departmental-optics",
   "metadata": {},
   "outputs": [
    {
     "name": "stdout",
     "output_type": "stream",
     "text": [
      "1/10. (New=0.406)Predicted - [13.222305396616704]. Actual - [6.582033773389246]. Error - 6.640\n",
      "2/10. (New=0.396)Predicted - [24.113430346773747]. Actual - [19.352977309887507]. Error - 4.760\n",
      "3/10. (New=0.382)Predicted - [35.92309144137307]. Actual - [23.073409099211318]. Error - 12.850\n",
      "4/10. (New=0.397)Predicted - [45.361551202271]. Actual - [42.002592041406075]. Error - 3.359\n",
      "5/10. (New=0.395)Predicted - [55.531969630622925]. Actual - [46.240787044118285]. Error - 9.291\n",
      "6/10. (New=0.394)Predicted - [67.05826965491384]. Actual - [56.52241872907294]. Error - 10.536\n",
      "7/10. (New=0.378)Predicted - [77.30291319344317]. Actual - [75.75469430652853]. Error - 1.548\n",
      "8/10. (New=0.399)Predicted - [86.00448200744677]. Actual - [89.52725765204846]. Error - 3.523\n",
      "9/10. (New=0.397)Predicted - [101.6202730505271]. Actual - [96.057868970883]. Error - 5.562\n",
      "Total error : 58.070\n",
      "Wall time: 4min 26s\n"
     ]
    }
   ],
   "source": [
    "%%time\n",
    "np.random.seed(16111998) # Fix random seed\n",
    "perturbance_kernels = [lambda x:x+stats.norm(0,.5).rvs(1)[0]]*2\n",
    "\n",
    "error=ABC_Cross_Validation.LOO_CV_abc_mcmc(n_obs=10,x_obs=lm.x_obs,y_obs=lm.observe(),\n",
    "    fitting_model=lm.copy([1,1]),priors=lm_priors,perturbance_kernels=perturbance_kernels,\n",
    "    acceptance_kernel=ABC.uniform_kernel,scaling_factor=4,chain_length=3500,summary_stats=summary_stats)\n",
    "print(\"Total error : {:,.3f}\".format(error))"
   ]
  },
  {
   "cell_type": "markdown",
   "id": "alive-amino",
   "metadata": {},
   "source": [
    "<a id=\"linear-smc\"></a>"
   ]
  },
  {
   "cell_type": "code",
   "execution_count": 7,
   "id": "complex-system",
   "metadata": {},
   "outputs": [
    {
     "name": "stdout",
     "output_type": "stream",
     "text": [
      "1/10. \n",
      "\n",
      "\n",
      "\n",
      "Predicted - [12.243541093327803]. Actual - [6.582033773389246]. Error - 5.662\n",
      "2/10. \n",
      "\n",
      "\n",
      "\n",
      "Predicted - [22.048823777870187]. Actual - [19.352977309887507]. Error - 2.696\n",
      "3/10. \n",
      "\n",
      "\n",
      "\n",
      "Predicted - [32.616367597943984]. Actual - [23.073409099211318]. Error - 9.543\n",
      "4/10. \n",
      "\n",
      "\n",
      "\n",
      "Predicted - [42.03262268747157]. Actual - [42.002592041406075]. Error - 0.030\n",
      "5/10. \n",
      "\n",
      "\n",
      "\n",
      "Predicted - [52.73535491004395]. Actual - [46.240787044118285]. Error - 6.495\n",
      "6/10. \n",
      "\n",
      "\n",
      "\n",
      "Predicted - [62.73720625507673]. Actual - [56.52241872907294]. Error - 6.215\n",
      "7/10. \n",
      "\n",
      "\n",
      "\n",
      "Predicted - [71.39323813940052]. Actual - [75.75469430652853]. Error - 4.361\n",
      "8/10. \n",
      "\n",
      "\n",
      "\n",
      "Predicted - [80.1853132395735]. Actual - [89.52725765204846]. Error - 9.342\n",
      "9/10. \n",
      "\n",
      "\n",
      "\n",
      "Predicted - [92.4948484808358]. Actual - [96.057868970883]. Error - 3.563\n",
      "Total error : 47.906\n",
      "Wall time: 6min 9s\n"
     ]
    }
   ],
   "source": [
    "%%time\n",
    "np.random.seed(16111998) # Fix random seed\n",
    "scaling_factors=list(np.linspace(10,6,5))\n",
    "\n",
    "perturbance_variance=.1\n",
    "\n",
    "perturbance_kernels = [lambda x:x+stats.norm(0,perturbance_variance).rvs(1)[0]]*2\n",
    "perturbance_kernel_probability = [lambda x,y:stats.norm(0,perturbance_variance).pdf(x-y)]\n",
    "\n",
    "error=ABC_Cross_Validation.LOO_CV_abc_smc(n_obs=10,x_obs=lm.x_obs,y_obs=lm.observe(),fitting_model=lm.copy([1,1]),priors=lm_priors,\n",
    "        perturbance_kernels=perturbance_kernels,perturbance_kernel_probability=perturbance_kernel_probability,acceptance_kernel=ABC.gaussian_kernel,scaling_factors=scaling_factors,\n",
    "        num_steps=5,sample_size=50,summary_stats=summary_stats)\n",
    "print(\"Total error : {:,.3f}\".format(error))"
   ]
  },
  {
   "cell_type": "markdown",
   "id": "ordered-house",
   "metadata": {},
   "source": [
    "<a id=\"linear-adaptive-smc\"></a>"
   ]
  },
  {
   "cell_type": "code",
   "execution_count": 8,
   "id": "whole-payroll",
   "metadata": {},
   "outputs": [
    {
     "name": "stdout",
     "output_type": "stream",
     "text": [
      "1/10. **********************************Predicted - [10.784574147478379]. Actual - [6.582033773389246]. Error - 4.203\n",
      "2/10. **********************************Predicted - [21.19614680458081]. Actual - [19.352977309887507]. Error - 1.843\n",
      "3/10. ***********************************Predicted - [31.77285141501013]. Actual - [23.073409099211318]. Error - 8.699\n",
      "4/10. ***********************************Predicted - [41.802577334860246]. Actual - [42.002592041406075]. Error - 0.200\n",
      "5/10. *********************************Predicted - [53.044027965157326]. Actual - [46.240787044118285]. Error - 6.803\n",
      "6/10. *********************************Predicted - [63.3300092942406]. Actual - [56.52241872907294]. Error - 6.808\n",
      "7/10. ***********************************Predicted - [72.37287916876761]. Actual - [75.75469430652853]. Error - 3.382\n",
      "8/10. **********************************Predicted - [81.66684425851416]. Actual - [89.52725765204846]. Error - 7.860\n",
      "9/10. **********************************Predicted - [92.83171533060494]. Actual - [96.057868970883]. Error - 3.226\n",
      "Total error : 43.024\n",
      "Wall time: 1h 23min 35s\n"
     ]
    }
   ],
   "source": [
    "%%time\n",
    "np.random.seed(16111998) # Fix random seed\n",
    "\n",
    "error=ABC_Cross_Validation.LOO_CV_adaptive_abc_smc(n_obs=10,x_obs=lm.x_obs,y_obs=lm.observe(),fitting_model=lm.copy([1,1]),priors=lm_priors,\n",
    "        alpha=.9,max_steps=1000,max_simulations=4500,sample_size=100,summary_stats=summary_stats)\n",
    "print(\"Total error : {:,.3f}\".format(error))"
   ]
  },
  {
   "cell_type": "markdown",
   "id": "usual-iceland",
   "metadata": {},
   "source": [
    "## Exponential Model"
   ]
  },
  {
   "cell_type": "code",
   "execution_count": 9,
   "id": "extensive-cancer",
   "metadata": {},
   "outputs": [],
   "source": [
    "# Specify the model\n",
    "np.random.seed(16111998) # Fix random seed\n",
    "em=ExponentialModel(\n",
    "    params=[2,.3],\n",
    "    n_obs=10,\n",
    "    x_obs=[[x] for x in range(10)],\n",
    "    noise=.1,\n",
    ")"
   ]
  },
  {
   "cell_type": "code",
   "execution_count": 10,
   "id": "adolescent-referral",
   "metadata": {},
   "outputs": [
    {
     "data": {
      "image/png": "[encoded data removed]",
      "text/plain": [
       "<Figure size 432x288 with 1 Axes>"
      ]
     },
     "metadata": {
      "needs_background": "light"
     },
     "output_type": "display_data"
    }
   ],
   "source": [
    "# Plot the observations\n",
    "em.plot_obs()"
   ]
  },
  {
   "cell_type": "code",
   "execution_count": 11,
   "id": "right-cleaners",
   "metadata": {},
   "outputs": [],
   "source": [
    "em_priors=[stats.uniform(0,3),stats.uniform(0,1)]"
   ]
  },
  {
   "cell_type": "code",
   "execution_count": 12,
   "id": "genuine-kitty",
   "metadata": {},
   "outputs": [],
   "source": [
    "# Define summary statistics\n",
    "start = (lambda ys:[ys[0][0]])\n",
    "mean_log_grad = (lambda ys:[10*np.mean([np.log(max(1,ys[i+1][0]-ys[i][0])) for i in range(len(ys)-1)])])\n",
    "summary_stats=[start,mean_log_grad]"
   ]
  },
  {
   "cell_type": "markdown",
   "id": "particular-intro",
   "metadata": {},
   "source": [
    "<a id=\"exponential-rejection\"></a>"
   ]
  },
  {
   "cell_type": "code",
   "execution_count": 13,
   "id": "extraordinary-public",
   "metadata": {},
   "outputs": [
    {
     "name": "stdout",
     "output_type": "stream",
     "text": [
      "0/10. Predicted - [2.55603604]. Actual - [3.11258724]. Error - 0.557\n",
      "1/10. Predicted - [3.02092325]. Actual - [3.09478741]. Error - 0.074\n",
      "2/10. Predicted - [3.43942115]. Actual - [3.7270279]. Error - 0.288\n",
      "3/10. Predicted - [4.10763407]. Actual - [4.00196117]. Error - 0.106\n",
      "4/10. Predicted - [5.09811393]. Actual - [5.3780016]. Error - 0.280\n",
      "5/10. Predicted - [6.3280892]. Actual - [6.20691578]. Error - 0.121\n",
      "6/10. Predicted - [7.69860845]. Actual - [7.79113419]. Error - 0.093\n",
      "7/10. Predicted - [10.05630072]. Actual - [10.44068232]. Error - 0.384\n",
      "8/10. Predicted - [12.87345332]. Actual - [13.51549783]. Error - 0.642\n",
      "9/10. Predicted - [17.67183997]. Actual - [17.17174793]. Error - 0.500\n",
      "Total error : 3.044\n",
      "Wall time: 3min 55s\n"
     ]
    }
   ],
   "source": [
    "%%time\n",
    "np.random.seed(16111998) # Fix random seed\n",
    "sampling_details={\"sampling_method\":\"best\",\"num_runs\":3500,\"sample_size\":350}\n",
    "error=ABC_Cross_Validation.LOO_CV_abc_rejection(n_obs=10,x_obs=em.x_obs,y_obs=em.observe(),fitting_model=em.copy([1,1]),priors=em_priors,sampling_details=sampling_details,summary_stats=summary_stats)\n",
    "print(\"Total error : {:,.3f}\".format(error))"
   ]
  },
  {
   "cell_type": "markdown",
   "id": "labeled-combine",
   "metadata": {},
   "source": [
    "<a id=\"exponential-mcmc\"></a>"
   ]
  },
  {
   "cell_type": "code",
   "execution_count": 14,
   "id": "stunning-specialist",
   "metadata": {},
   "outputs": [
    {
     "name": "stdout",
     "output_type": "stream",
     "text": [
      "0/10. (New=0.212)Predicted - [2.38283625]. Actual - [3.11258724]. Error - 0.730\n",
      "1/10. (New=0.211)Predicted - [2.90511616]. Actual - [3.09478741]. Error - 0.190\n",
      "2/10. (New=0.226)Predicted - [3.8986815]. Actual - [3.7270279]. Error - 0.172\n",
      "3/10. (New=0.196)Predicted - [3.77494031]. Actual - [4.00196117]. Error - 0.227\n",
      "4/10. (New=0.231)Predicted - [5.07306972]. Actual - [5.3780016]. Error - 0.305\n",
      "5/10. (New=0.216)Predicted - [5.74064636]. Actual - [6.20691578]. Error - 0.466\n",
      "6/10. (New=0.190)Predicted - [7.00951278]. Actual - [7.79113419]. Error - 0.782\n",
      "7/10. (New=0.295)Predicted - [9.77214802]. Actual - [10.44068232]. Error - 0.669\n",
      "8/10. (New=0.305)Predicted - [12.21736278]. Actual - [13.51549783]. Error - 1.298\n",
      "9/10. (New=0.321)Predicted - [13.58196303]. Actual - [17.17174793]. Error - 3.590\n",
      "Total error : 8.427\n",
      "Wall time: 5min 11s\n"
     ]
    }
   ],
   "source": [
    "%%time\n",
    "np.random.seed(16111998) # Fix random seed\n",
    "perturbance_kernels = [lambda x:x+stats.norm(0,.1).rvs(1)[0]]*2\n",
    "\n",
    "error=ABC_Cross_Validation.LOO_CV_abc_mcmc(n_obs=10,x_obs=em.x_obs,y_obs=em.observe(),\n",
    "    fitting_model=em.copy([1,1]),priors=em_priors,perturbance_kernels=perturbance_kernels,\n",
    "    acceptance_kernel=ABC.gaussian_kernel,scaling_factor=2,chain_length=3500,summary_stats=summary_stats)\n",
    "print(\"Total error : {:,.3f}\".format(error))"
   ]
  },
  {
   "cell_type": "markdown",
   "id": "cheap-moscow",
   "metadata": {},
   "source": [
    "<a id=\"exponential-smc\"></a>"
   ]
  },
  {
   "cell_type": "code",
   "execution_count": 15,
   "id": "legislative-setup",
   "metadata": {},
   "outputs": [
    {
     "name": "stdout",
     "output_type": "stream",
     "text": [
      "0/10. \n",
      "\n",
      "Predicted - [2.75475017]. Actual - [3.11258724]. Error - 0.358\n",
      "1/10. \n",
      "\n",
      "Predicted - [3.21707365]. Actual - [3.09478741]. Error - 0.122\n",
      "2/10. \n",
      "\n",
      "Predicted - [3.65363409]. Actual - [3.7270279]. Error - 0.073\n",
      "3/10. \n",
      "\n",
      "Predicted - [4.5294411]. Actual - [4.00196117]. Error - 0.527\n",
      "4/10. \n",
      "\n",
      "Predicted - [5.29374553]. Actual - [5.3780016]. Error - 0.084\n",
      "5/10. \n",
      "\n",
      "Predicted - [6.41946722]. Actual - [6.20691578]. Error - 0.213\n",
      "6/10. \n",
      "\n",
      "Predicted - [8.03263118]. Actual - [7.79113419]. Error - 0.241\n",
      "7/10. \n",
      "\n",
      "Predicted - [10.14444268]. Actual - [10.44068232]. Error - 0.296\n",
      "8/10. \n",
      "\n",
      "Predicted - [13.1945874]. Actual - [13.51549783]. Error - 0.321\n",
      "9/10. \n",
      "\n",
      "Predicted - [17.43231784]. Actual - [17.17174793]. Error - 0.261\n",
      "Total error : 2.497\n",
      "Wall time: 6min 44s\n"
     ]
    }
   ],
   "source": [
    "%%time\n",
    "np.random.seed(16111998) # Fix random seed\n",
    "scaling_factors=list(np.linspace(4,1,3))\n",
    "\n",
    "perturbance_variance=.1\n",
    "\n",
    "perturbance_kernels = [lambda x:x+stats.norm(0,perturbance_variance).rvs(1)[0]]*2\n",
    "perturbance_kernel_probability = [lambda x,y:stats.norm(0,perturbance_variance).pdf(x-y)]\n",
    "\n",
    "error=ABC_Cross_Validation.LOO_CV_abc_smc(n_obs=10,x_obs=em.x_obs,y_obs=em.observe(),fitting_model=em.copy([1,1]),priors=em_priors,\n",
    "        perturbance_kernels=perturbance_kernels,perturbance_kernel_probability=perturbance_kernel_probability,acceptance_kernel=ABC.gaussian_kernel,scaling_factors=scaling_factors,\n",
    "        num_steps=3,sample_size=50,summary_stats=summary_stats)\n",
    "print(\"Total error : {:,.3f}\".format(error))"
   ]
  },
  {
   "cell_type": "markdown",
   "id": "secure-steel",
   "metadata": {},
   "source": [
    "<a id=\"exponential-adaptive-smc\"></a>"
   ]
  },
  {
   "cell_type": "code",
   "execution_count": 16,
   "id": "brown-block",
   "metadata": {},
   "outputs": [
    {
     "name": "stdout",
     "output_type": "stream",
     "text": [
      "0/10. ************************************Predicted - [2.95049935]. Actual - [3.11258724]. Error - 0.162\n",
      "1/10. ************************************Predicted - [2.0627937]. Actual - [3.09478741]. Error - 1.032\n",
      "2/10. ************************************Predicted - [2.93992192]. Actual - [3.7270279]. Error - 0.787\n",
      "3/10. ************************************Predicted - [3.81989406]. Actual - [4.00196117]. Error - 0.182\n",
      "4/10. ************************************Predicted - [3.92694013]. Actual - [5.3780016]. Error - 1.451\n",
      "5/10. ************************************Predicted - [5.61339211]. Actual - [6.20691578]. Error - 0.594\n",
      "6/10. ************************************Predicted - [7.99766371]. Actual - [7.79113419]. Error - 0.207\n",
      "7/10. ************************************Predicted - [10.48394444]. Actual - [10.44068232]. Error - 0.043\n",
      "8/10. ************************************Predicted - [13.04204994]. Actual - [13.51549783]. Error - 0.473\n",
      "9/10. ************************************Predicted - [17.34986148]. Actual - [17.17174793]. Error - 0.178\n",
      "Total error : 5.109\n",
      "Wall time: 1h 36min 27s\n"
     ]
    }
   ],
   "source": [
    "%%time\n",
    "np.random.seed(16111998) # Fix random seed\n",
    "\n",
    "error=ABC_Cross_Validation.LOO_CV_adaptive_abc_smc(n_obs=10,x_obs=em.x_obs,y_obs=em.observe(),fitting_model=em.copy([1,1]),priors=em_priors,\n",
    "        alpha=.9,max_steps=1000,max_simulations=4000,sample_size=100,summary_stats=summary_stats)\n",
    "print(\"Total error : {:,.3f}\".format(error))"
   ]
  },
  {
   "cell_type": "markdown",
   "id": "overall-universal",
   "metadata": {},
   "source": [
    "## SIR Model"
   ]
  },
  {
   "cell_type": "code",
   "execution_count": 2,
   "id": "imposed-withdrawal",
   "metadata": {},
   "outputs": [],
   "source": [
    "sir_model=SIRModel(\n",
    "    params=[100000,100,1,.5],\n",
    "    n_obs=30,\n",
    "    x_obs=[[x] for x in range(30)],)\n",
    "sir_priors=[stats.uniform(100000,0),stats.uniform(100,0),stats.uniform(0,1.5),stats.uniform(0,2)]\n",
    "sir_smc_priors=[stats.uniform(100000,1),stats.uniform(100,1),stats.uniform(0,1.5),stats.uniform(0,2)]"
   ]
  },
  {
   "cell_type": "code",
   "execution_count": 3,
   "id": "color-scenario",
   "metadata": {},
   "outputs": [
    {
     "data": {
      "image/png": "[encoded data removed]",
      "text/plain": [
       "<Figure size 432x288 with 3 Axes>"
      ]
     },
     "metadata": {
      "needs_background": "light"
     },
     "output_type": "display_data"
    }
   ],
   "source": [
    "sir_model.plot_obs(constant_scale=True)"
   ]
  },
  {
   "cell_type": "markdown",
   "id": "commercial-harbor",
   "metadata": {},
   "source": [
    "<a id=\"sir-rejection\"></a>"
   ]
  },
  {
   "cell_type": "code",
   "execution_count": 5,
   "id": "marine-piano",
   "metadata": {},
   "outputs": [
    {
     "name": "stdout",
     "output_type": "stream",
     "text": [
      "0/30. Predicted - (99900.0, 100.0, 0). Actual - (99900, 100, 0). Error - 0.000\n",
      "1/30. Predicted - (99790.0, 156.0, 54). Actual - (99801, 149, 50). Error - 13.638\n",
      "2/30. Predicted - (99622.0, 240.0, 138). Actual - (99653, 223, 124). Error - 38.026\n",
      "3/30. Predicted - (99356.0, 379.0, 265). Actual - (99431, 334, 235). Error - 92.466\n",
      "4/30. Predicted - (98952.0, 579.0, 469). Actual - (99099, 499, 402). Error - 180.272\n",
      "5/30. Predicted - (98334.0, 882.0, 784). Actual - (98605, 744, 651). Error - 331.925\n",
      "6/30. Predicted - (97329.0, 1383.0, 1288). Actual - (97872, 1105, 1023). Error - 665.100\n",
      "7/30. Predicted - (95967.0, 2010.0, 2023). Actual - (96791, 1634, 1575). Error - 1010.473\n",
      "8/30. Predicted - (93673.0, 3102.0, 3225). Actual - (95210, 2398, 2392). Error - 1884.642\n",
      "9/30. Predicted - (90228.0, 4775.0, 4997). Actual - (92927, 3482, 3591). Error - 3306.552\n",
      "10/30. Predicted - (85583.0, 6857.0, 7560). Actual - (89692, 4976, 5332). Error - 5038.455\n",
      "11/30. Predicted - (78039.0, 10350.0, 11611). Actual - (85229, 6951, 7820). Error - 8810.277\n",
      "12/30. Predicted - (68990.0, 13866.0, 17144). Actual - (79305, 9400, 11295). Error - 12671.037\n",
      "13/30. Predicted - (60509.0, 15760.0, 23731). Actual - (71851, 12154, 15995). Error - 14194.714\n",
      "14/30. Predicted - (50017.0, 17795.0, 32188). Actual - (63119, 14809, 22072). Error - 16819.990\n",
      "15/30. Predicted - (39667.0, 17823.0, 42510). Actual - (53772, 16752, 29476). Error - 19234.948\n",
      "16/30. Predicted - (35345.0, 15654.0, 49001). Actual - (44765, 17383, 37852). Error - 14697.824\n",
      "17/30. Predicted - (26250.0, 12873.0, 60877). Actual - (36984, 16473, 46543). Error - 18265.878\n",
      "18/30. Predicted - (23183.0, 9671.0, 67146). Actual - (30892, 14329, 54779). Error - 15299.292\n",
      "19/30. Predicted - (20957.0, 6759.0, 72284). Actual - (26466, 11591, 61943). Error - 12674.131\n",
      "20/30. Predicted - (19550.0, 4793.0, 75657). Actual - (23399, 8863, 67738). Error - 9700.014\n",
      "21/30. Predicted - (19148.0, 3321.0, 77531). Actual - (21326, 6505, 72169). Error - 6605.496\n",
      "22/30. Predicted - (18619.0, 2137.0, 79244). Actual - (19939, 4640, 75421). Error - 4756.337\n",
      "23/30. Predicted - (17609.0, 1248.0, 81143). Actual - (19014, 3245, 77741). Error - 4187.558\n",
      "24/30. Predicted - (17138.0, 853.0, 82009). Actual - (18397, 2240, 79363). Error - 3241.939\n",
      "25/30. Predicted - (17254.0, 536.0, 82210). Actual - (17985, 1532, 80483). Error - 2123.418\n",
      "26/30. Predicted - (17145.0, 349.0, 82506). Actual - (17710, 1041, 81249). Error - 1542.121\n",
      "27/30. Predicted - (16410.0, 202.0, 83388). Actual - (17526, 705, 81769). Error - 2029.686\n",
      "28/30. Predicted - (15911.0, 131.0, 83958). Actual - (17403, 476, 82121). Error - 2391.581\n",
      "29/30. Predicted - (15854.0, 89.0, 84057). Actual - (17321, 320, 82359). Error - 2255.805\n",
      "Total error : 184,063.594\n",
      "Wall time: 3min 43s\n"
     ]
    }
   ],
   "source": [
    "%%time\n",
    "# ABC Rejection\n",
    "np.random.seed(16111998) # Fix random seed\n",
    "sampling_details={\"sampling_method\":\"best\",\"num_runs\":10000,\"sample_size\":1000,\"distance_measure\":ABC.log_l2_norm}\n",
    "error=ABC_Cross_Validation.LOO_CV_abc_rejection(n_obs=30,x_obs=sir_model.x_obs,y_obs=sir_model.observe(),fitting_model=sir_model.copy([1,1,1,1]),priors=sir_priors,sampling_details=sampling_details)\n",
    "print(\"Total error : {:,.3f}\".format(error))"
   ]
  },
  {
   "cell_type": "markdown",
   "id": "selective-lender",
   "metadata": {},
   "source": [
    "<a id=\"sir-mcmc\"></a>"
   ]
  },
  {
   "cell_type": "code",
   "execution_count": 9,
   "id": "contrary-brother",
   "metadata": {
    "scrolled": false
   },
   "outputs": [
    {
     "name": "stdout",
     "output_type": "stream",
     "text": [
      "0/30. (New=0.278)Predicted - (99900.0, 100.0, 0). Actual - (99900, 100, 0). Error - 0.000\n",
      "1/30. (New=0.254)Predicted - (99794.0, 153.0, 53). Actual - (99801, 149, 50). Error - 8.602\n",
      "2/30. (New=0.272)Predicted - (99637.0, 234.0, 129). Actual - (99653, 223, 124). Error - 20.050\n",
      "3/30. (New=0.256)Predicted - (99381.0, 362.0, 257). Actual - (99431, 334, 235). Error - 61.384\n",
      "4/30. (New=0.268)Predicted - (99015.0, 516.0, 469). Actual - (99099, 499, 402). Error - 108.784\n",
      "5/30. (New=0.259)Predicted - (98442.0, 804.0, 754). Actual - (98605, 744, 651). Error - 201.936\n",
      "6/30. (New=0.268)Predicted - (97634.0, 1206.0, 1160). Actual - (97872, 1105, 1023). Error - 292.599\n",
      "7/30. (New=0.267)Predicted - (96425.0, 1773.0, 1802). Actual - (96791, 1634, 1575). Error - 452.555\n",
      "8/30. (New=0.264)Predicted - (94536.0, 2695.0, 2769). Actual - (95210, 2398, 2392). Error - 827.414\n",
      "9/30. (New=0.270)Predicted - (92091.0, 3759.0, 4150). Actual - (92927, 3482, 3591). Error - 1043.123\n",
      "10/30. (New=0.265)Predicted - (87744.0, 5914.0, 6342). Actual - (89692, 4976, 5332). Error - 2386.346\n",
      "11/30. (New=0.288)Predicted - (82460.0, 8375.0, 9165). Actual - (85229, 6951, 7820). Error - 3391.779\n",
      "12/30. (New=0.259)Predicted - (75958.0, 10202.0, 13840). Actual - (79305, 9400, 11295). Error - 4280.495\n",
      "13/30. (New=0.276)Predicted - (66968.0, 14023.0, 19009). Actual - (71851, 12154, 15995). Error - 6034.985\n",
      "14/30. (New=0.286)Predicted - (56133.0, 17453.0, 26414). Actual - (63119, 14809, 22072). Error - 8639.901\n",
      "15/30. (New=0.271)Predicted - (48075.0, 17052.0, 34873). Actual - (53772, 16752, 29476). Error - 7853.243\n",
      "16/30. (New=0.263)Predicted - (38936.0, 16667.0, 44397). Actual - (44765, 17383, 37852). Error - 8793.573\n",
      "17/30. (New=0.260)Predicted - (31517.0, 14751.0, 53732). Actual - (36984, 16473, 46543). Error - 9194.297\n",
      "18/30. (New=0.271)Predicted - (27182.0, 12305.0, 60513). Actual - (30892, 14329, 54779). Error - 7123.162\n",
      "19/30. (New=0.266)Predicted - (22449.0, 9730.0, 67821). Actual - (26466, 11591, 61943). Error - 7358.702\n",
      "20/30. (New=0.275)Predicted - (21190.0, 7008.0, 71802). Actual - (23399, 8863, 67738). Error - 4983.653\n",
      "21/30. (New=0.253)Predicted - (22177.0, 4093.0, 73730). Actual - (21326, 6505, 72169). Error - 2996.442\n",
      "22/30. (New=0.283)Predicted - (16654.0, 3777.0, 79569). Actual - (19939, 4640, 75421). Error - 5361.147\n",
      "23/30. (New=0.268)Predicted - (18895.0, 2131.0, 78974). Actual - (19014, 3245, 77741). Error - 1665.967\n",
      "24/30. (New=0.265)Predicted - (18292.0, 1388.0, 80320). Actual - (18397, 2240, 79363). Error - 1285.604\n",
      "25/30. (New=0.256)Predicted - (17485.0, 872.0, 81643). Actual - (17985, 1532, 80483). Error - 1425.202\n",
      "26/30. (New=0.260)Predicted - (17275.0, 638.0, 82087). Actual - (17710, 1041, 81249). Error - 1026.586\n",
      "27/30. (New=0.257)Predicted - (17344.0, 394.0, 82262). Actual - (17526, 705, 81769). Error - 610.650\n",
      "28/30. (New=0.261)Predicted - (17761.0, 258.0, 81981). Actual - (17403, 476, 82121). Error - 441.914\n",
      "29/30. (New=0.247)Predicted - (19414.0, 144.0, 80442). Actual - (17321, 320, 82359). Error - 2843.680\n",
      "Total error : 90,713.774\n",
      "Wall time: 14min 16s\n"
     ]
    }
   ],
   "source": [
    "%%time\n",
    "# ABC MCMC\n",
    "np.random.seed(16111998) # Fix random seed\n",
    "perturbance_kernels = [lambda x:x]*2 + [lambda x:x+stats.norm(0,.1).rvs(1)[0]]*2\n",
    "\n",
    "error=ABC_Cross_Validation.LOO_CV_abc_mcmc(n_obs=30,x_obs=sir_model.x_obs,y_obs=sir_model.observe(),\n",
    "    fitting_model=sir_model.copy([1,1,1,1]),priors=sir_priors,perturbance_kernels=perturbance_kernels,\n",
    "    acceptance_kernel=ABC.gaussian_kernel,scaling_factor=1/3,chain_length=10000,\n",
    "    distance_measure=ABC.log_l2_norm)\n",
    "print(\"Total error : {:,.3f}\".format(error))"
   ]
  },
  {
   "cell_type": "markdown",
   "id": "usual-times",
   "metadata": {},
   "source": [
    "<a id=\"sir-smc\"></a>"
   ]
  },
  {
   "cell_type": "code",
   "execution_count": 5,
   "id": "formed-longitude",
   "metadata": {
    "scrolled": false
   },
   "outputs": [
    {
     "name": "stdout",
     "output_type": "stream",
     "text": [
      "0/30. ************Predicted - (99899.99911001843, 100.58549321192548, 0). Actual - (99900, 100, 0). Error - 0.585\n",
      "1/30. ************Predicted - (99802.40824208948, 150.1206183727562, 48). Actual - (99801, 149, 50). Error - 2.691\n",
      "2/30. ************Predicted - (99650.63720356041, 224.57914514233653, 125). Actual - (99653, 223, 124). Error - 3.013\n",
      "3/30. ************Predicted - (99416.07467771533, 330.49663003490184, 254). Actual - (99431, 334, 235). Error - 24.414\n",
      "4/30. ************Predicted - (99076.96303783433, 510.57229195901715, 413). Actual - (99099, 499, 402). Error - 27.213\n",
      "5/30. ************Predicted - (98594.82420021857, 745.6944503085089, 660). Actual - (98605, 744, 651). Error - 13.690\n",
      "6/30. ************Predicted - (97822.18923934591, 1145.2492890132103, 1033). Actual - (97872, 1105, 1023). Error - 64.816\n",
      "7/30. ************Predicted - (96769.90774357943, 1648.541315858466, 1582). Actual - (96791, 1634, 1575). Error - 26.558\n",
      "8/30. ************Predicted - (95110.83359259588, 2460.460155838892, 2429). Actual - (95210, 2398, 2392). Error - 122.899\n",
      "9/30. ************Predicted - (92727.74996627988, 3601.649468140954, 3671). Actual - (92927, 3482, 3591). Error - 245.798\n",
      "10/30. ************Predicted - (89329.78891682763, 5147.521429052425, 5523). Actual - (89692, 4976, 5332). Error - 443.957\n",
      "11/30. ************Predicted - (84673.22348991012, 7256.3959859469805, 8071). Actual - (85229, 6951, 7820). Error - 682.023\n",
      "12/30. ************Predicted - (79028.0663327794, 9394.453144169202, 11578). Actual - (79305, 9400, 11295). Error - 395.995\n",
      "13/30. ************Predicted - (71399.72562820675, 12315.649253751442, 16285). Actual - (71851, 12154, 15995). Error - 560.249\n",
      "14/30. ************Predicted - (62214.85154861782, 15136.46679417484, 22649). Actual - (63119, 14809, 22072). Error - 1121.449\n",
      "15/30. ************Predicted - (51686.14613673196, 17471.271267403295, 30843). Actual - (53772, 16752, 29476). Error - 2595.540\n",
      "16/30. ************Predicted - (43646.10913249248, 16825.43220719139, 39529). Actual - (44765, 17383, 37852). Error - 2091.681\n",
      "17/30. ************Predicted - (35756.95020231989, 16471.40637000285, 47772). Actual - (36984, 16473, 46543). Error - 1736.691\n",
      "18/30. ************Predicted - (30617.345705390457, 14174.394744683283, 55209). Actual - (30892, 14329, 54779). Error - 533.140\n",
      "19/30. ************Predicted - (26811.8131125761, 11348.377220137358, 61840). Actual - (26466, 11591, 61943). Error - 434.812\n",
      "20/30. ************Predicted - (22770.88926467413, 8390.429866107646, 68839). Actual - (23399, 8863, 67738). Error - 1352.792\n",
      "21/30. ************Predicted - (20357.275861497226, 6597.654190562978, 73046). Actual - (21326, 6505, 72169). Error - 1310.015\n",
      "22/30. ************Predicted - (20280.055149059277, 4601.407453157313, 75119). Actual - (19939, 4640, 75421). Error - 457.178\n",
      "23/30. ************Predicted - (19121.07922927798, 2835.381851557977, 78044). Actual - (19014, 3245, 77741). Error - 520.636\n",
      "24/30. ************Predicted - (18464.70100429139, 2113.618806549777, 79422). Actual - (18397, 2240, 79363). Error - 155.038\n",
      "25/30. ************Predicted - (17554.26063383637, 1463.4547035822034, 80983). Actual - (17985, 1532, 80483). Error - 663.502\n",
      "26/30. ************Predicted - (18683.134090915657, 912.5456571529721, 80405). Actual - (17710, 1041, 81249). Error - 1294.537\n",
      "27/30. ************Predicted - (18278.902320408582, 694.562792407487, 81027). Actual - (17526, 705, 81769). Error - 1057.135\n",
      "28/30. ************Predicted - (16560.937137159795, 483.5136563067972, 82956). Actual - (17403, 476, 82121). Error - 1185.897\n",
      "29/30. ************Predicted - (17219.24038743267, 283.1995716353267, 82498). Actual - (17321, 320, 82359). Error - 176.154\n",
      "Total error : 19,300.097\n",
      "Wall time: 31min 47s\n"
     ]
    }
   ],
   "source": [
    "%%time\n",
    "# ABC SMC (Non-Adaptive)\n",
    "np.random.seed(16111998) # Fix random seed\n",
    "perturbance_variance=.1\n",
    "perturbance_kernels = [lambda x:x]*2 + [lambda x:x+stats.norm(0,perturbance_variance).rvs(1)[0]]*2\n",
    "perturbance_kernel_probability = [lambda x,y:1]*2 + [lambda x,y:stats.norm(0,perturbance_variance).pdf(x-y)]*2\n",
    "\n",
    "scaling_factors=list(np.logspace(-1,-.05,13,base=10))\n",
    "\n",
    "error=ABC_Cross_Validation.LOO_CV_abc_smc(n_obs=30,x_obs=sir_model.x_obs,y_obs=sir_model.observe(),fitting_model=sir_model.copy([1,1,1,1]),priors=sir_smc_priors,\n",
    "        perturbance_kernels=perturbance_kernels,perturbance_kernel_probability=perturbance_kernel_probability,acceptance_kernel=ABC.gaussian_kernel,scaling_factors=scaling_factors,\n",
    "        num_steps=13,sample_size=50,distance_measure=ABC.log_l2_norm)\n",
    "\n",
    "print(\"Total error : {:,.3f}\".format(error))"
   ]
  },
  {
   "cell_type": "markdown",
   "id": "beautiful-leadership",
   "metadata": {},
   "source": [
    "<a id=\"sir-adaptive-smc\"></a>"
   ]
  },
  {
   "cell_type": "code",
   "execution_count": 4,
   "id": "educational-breathing",
   "metadata": {},
   "outputs": [
    {
     "name": "stdout",
     "output_type": "stream",
     "text": [
      "0/30. ************Predicted - (99900.07181869268, 100.48994367074523, 0). Actual - (99900, 100, 0). Error - 0.495\n",
      "1/30. ************Predicted - (99800.92471891886, 150.6537531413332, 49). Actual - (99801, 149, 50). Error - 1.934\n",
      "2/30. ************Predicted - (99647.8726962585, 224.62705937263388, 128). Actual - (99653, 223, 124). Error - 6.703\n",
      "3/30. ************Predicted - (99422.12702407122, 341.29903005248235, 237). Actual - (99431, 334, 235). Error - 11.662\n",
      "4/30. ************Predicted - (99082.1234388135, 501.494385754603, 417). Actual - (99099, 499, 402). Error - 22.717\n",
      "5/30. ************Predicted - (98596.37682768638, 749.3230792253015, 655). Actual - (98605, 744, 651). Error - 10.895\n",
      "6/30. ************Predicted - (97849.0555298643, 1118.456243315079, 1033). Actual - (97872, 1105, 1023). Error - 28.417\n",
      "7/30. ************Predicted - (96789.04159222162, 1634.6617391843874, 1577). Actual - (96791, 1634, 1575). Error - 2.876\n",
      "8/30. ************Predicted - (95127.23793153168, 2425.419100800373, 2448). Actual - (95210, 2398, 2392). Error - 103.621\n",
      "9/30. ************Predicted - (92909.00975812005, 3400.361427246558, 3691). Actual - (92927, 3482, 3591). Error - 130.340\n",
      "10/30. ************Predicted - (89235.06009236886, 5151.47561695114, 5614). Actual - (89692, 4976, 5332). Error - 564.898\n",
      "11/30. ************Predicted - (85409.06563416618, 6926.334566229167, 7665). Actual - (85229, 6951, 7820). Error - 238.866\n",
      "12/30. ************Predicted - (78895.02090989833, 9476.447887708855, 11629). Actual - (79305, 9400, 11295). Error - 534.306\n",
      "13/30. ************Predicted - (71613.05112266936, 12051.42262760029, 16336). Actual - (71851, 12154, 15995). Error - 428.279\n",
      "14/30. ************Predicted - (63044.8748043668, 14780.604660541625, 22175). Actual - (63119, 14809, 22072). Error - 130.038\n",
      "15/30. ************Predicted - (53433.93842994548, 16903.591385214473, 29663). Actual - (53772, 16752, 29476). Error - 415.012\n",
      "16/30. ************Predicted - (43787.93827601429, 17606.523525265264, 38606). Actual - (44765, 17383, 37852). Error - 1254.244\n",
      "17/30. ************Predicted - (38028.67607581768, 16164.681933665637, 45807). Actual - (36984, 16473, 46543). Error - 1314.574\n",
      "18/30. ************Predicted - (31390.72229132151, 13915.610705818392, 54694). Actual - (30892, 14329, 54779). Error - 653.330\n",
      "19/30. ************Predicted - (26350.963459585648, 11306.438736885466, 62343). Actual - (26466, 11591, 61943). Error - 504.191\n",
      "20/30. ************Predicted - (23785.185065531405, 8817.495921085465, 67398). Actual - (23399, 8863, 67738). Error - 516.536\n",
      "21/30. ************Predicted - (21764.58760748504, 6425.640888753303, 71810). Actual - (21326, 6505, 72169). Error - 572.309\n",
      "22/30. ************Predicted - (20678.26264752666, 4265.402015380223, 75057). Actual - (19939, 4640, 75421). Error - 905.168\n",
      "23/30. ************Predicted - (19891.135582385527, 3120.3663302640743, 76989). Actual - (19014, 3245, 77741). Error - 1162.069\n",
      "24/30. ************Predicted - (18497.88953009706, 2179.664351374475, 79323). Actual - (18397, 2240, 79363). Error - 124.174\n",
      "25/30. ************Predicted - (18413.235230877384, 1385.3939889920366, 80202). Actual - (17985, 1532, 80483). Error - 532.766\n",
      "26/30. ************Predicted - (17876.898574311504, 1039.642461450705, 81084). Actual - (17710, 1041, 81249). Error - 234.695\n",
      "27/30. ************Predicted - (16616.14057484259, 775.3390855315411, 82609). Actual - (17526, 705, 81769). Error - 1240.319\n",
      "28/30. ************Predicted - (17607.01615327233, 517.3779369578588, 81876). Actual - (17403, 476, 82121). Error - 321.496\n",
      "29/30. ************Predicted - (18830.922086687817, 289.52228056414606, 80880). Actual - (17321, 320, 82359). Error - 2113.820\n",
      "Total error : 14,080.750\n",
      "Wall time: 56min 51s\n"
     ]
    }
   ],
   "source": [
    "%%time\n",
    "#ABC SMC (Adapative Purturbance)\n",
    "np.random.seed(16111998) # Fix random seed\n",
    "\n",
    "scaling_factors=list(np.logspace(-1,-.05,13,base=10))\n",
    "\n",
    "error=ABC_Cross_Validation.LOO_CV_adaptive_perturbance_abc_smc(n_obs=30,x_obs=sir_model.x_obs,y_obs=sir_model.observe(),fitting_model=sir_model.copy([1,1,1,1]),priors=sir_smc_priors,\n",
    "        acceptance_kernel=ABC.gaussian_kernel,scaling_factors=scaling_factors,distance_measure=ABC.log_l2_norm,\n",
    "        num_steps=13,sample_size=50)\n",
    "print(\"Total error : {:,.3f}\".format(error))"
   ]
  },
  {
   "cell_type": "code",
   "execution_count": 8,
   "id": "brutal-sperm",
   "metadata": {},
   "outputs": [
    {
     "name": "stdout",
     "output_type": "stream",
     "text": [
      "0/30. **************************************************Predicted - (99899.71378344546, 100.55352123452798, 0). Actual - (99900, 100, 0). Error - 0.623\n",
      "1/30. ***********************************************Predicted - (99800.35018916574, 150.28835408300415, 50). Actual - (99801, 149, 50). Error - 1.443\n",
      "2/30. ****************************************************Predicted - (99649.85963041616, 225.473376344806, 125). Actual - (99653, 223, 124). Error - 4.121\n",
      "3/30. ***********************************************Predicted - (99425.22097939914, 339.4541490255599, 236). Actual - (99431, 334, 235). Error - 8.009\n",
      "4/30. ***********************************************Predicted - (99085.14953258699, 500.3634592398599, 415). Actual - (99099, 499, 402). Error - 19.045\n",
      "5/30. **************************************************Predicted - (98606.20621760079, 735.5380113879111, 659). Actual - (98605, 744, 651). Error - 11.707\n",
      "6/30. *************************************************Predicted - (97866.70486474493, 1073.4717326227446, 1060). Actual - (97872, 1105, 1023). Error - 48.899\n",
      "7/30. **************************************************Predicted - (96799.28172818849, 1629.3309751352338, 1572). Actual - (96791, 1634, 1575). Error - 9.969\n",
      "8/30. ****************************************************Predicted - (95162.96216158266, 2449.808880183183, 2388). Actual - (95210, 2398, 2392). Error - 70.091\n",
      "9/30. **************************************************Predicted - (92846.85533363688, 3507.586636274794, 3646). Actual - (92927, 3482, 3591). Error - 100.513\n",
      "10/30. *****************************************************Predicted - (89716.2327779474, 5020.3435585143425, 5264). Actual - (89692, 4976, 5332). Error - 84.721\n",
      "11/30. ***********************************************Predicted - (85427.36646826388, 6841.27747652932, 7732). Actual - (85229, 6951, 7820). Error - 243.171\n",
      "12/30. ************************************************Predicted - (79647.70208270708, 9319.614590249645, 11033). Actual - (79305, 9400, 11295). Error - 438.806\n",
      "13/30. **************************************************Predicted - (71193.94762235772, 12466.447108587523, 16340). Actual - (71851, 12154, 15995). Error - 805.212\n",
      "14/30. ************************************************Predicted - (63037.36894698514, 15140.787668471155, 21822). Actual - (63119, 14809, 22072). Error - 423.375\n",
      "15/30. ***************************************************Predicted - (52829.97976285609, 17055.713264649192, 30115). Actual - (53772, 16752, 29476). Error - 1178.119\n",
      "16/30. ***************************************************Predicted - (45361.91149076642, 17432.700618794308, 37206). Actual - (44765, 17383, 37852). Error - 880.959\n",
      "17/30. *************************************************Predicted - (37658.81711601572, 15821.705993707466, 46520). Actual - (36984, 16473, 46543). Error - 938.132\n",
      "18/30. **********************************************Predicted - (30839.792982465748, 13889.657695270867, 55271). Actual - (30892, 14329, 54779). Error - 661.673\n",
      "19/30. **************************************************Predicted - (26098.816781759146, 11291.450835580705, 62610). Actual - (26466, 11591, 61943). Error - 818.194\n",
      "20/30. ***********************************************Predicted - (23946.392141178047, 8601.265166665667, 67453). Actual - (23399, 8863, 67738). Error - 670.349\n",
      "21/30. ***************************************************Predicted - (22162.09894393306, 6347.303393526032, 71491). Actual - (21326, 6505, 72169). Error - 1087.940\n",
      "22/30. ************************************************Predicted - (20623.88434979669, 4533.5521368024165, 74843). Actual - (19939, 4640, 75421). Error - 902.486\n",
      "23/30. *************************************************Predicted - (19801.944744100416, 3257.475663883648, 76941). Actual - (19014, 3245, 77741). Error - 1122.948\n",
      "24/30. *************************************************Predicted - (19078.947815518113, 2196.4100561064697, 78725). Actual - (18397, 2240, 79363). Error - 934.878\n",
      "25/30. ****************************************************Predicted - (17828.071398823187, 1513.4367340582794, 80659). Actual - (17985, 1532, 80483). Error - 236.532\n",
      "26/30. **********************************************Predicted - (17519.228281348915, 1044.2282326066452, 81437). Actual - (17710, 1041, 81249). Error - 267.859\n",
      "27/30. *************************************************Predicted - (17782.02358859632, 677.4021730342611, 81541). Actual - (17526, 705, 81769). Error - 343.939\n",
      "28/30. ***************************************************Predicted - (17098.944521174053, 454.7383189590764, 82447). Actual - (17403, 476, 82121). Error - 446.293\n",
      "29/30. **************************************************Predicted - (17038.69201771049, 318.7518550188652, 82643). Actual - (17321, 320, 82359). Error - 400.444\n",
      "Total error : 13,160.450\n",
      "Wall time: 3h 28min 19s\n"
     ]
    }
   ],
   "source": [
    "%%time\n",
    "#ABC SMC (Adapative Purturbance & Acceptance)\n",
    "np.random.seed(16111998) # Fix random seed\n",
    "error=ABC_Cross_Validation.LOO_CV_adaptive_abc_smc(n_obs=30,x_obs=sir_model.x_obs,y_obs=sir_model.observe(),fitting_model=sir_model.copy([1,1,1,1]),priors=sir_smc_priors,\n",
    "        alpha=.9,max_steps=100,max_simulations=3500,sample_size=50,terminal_scaling_factor=10**(-.05),\n",
    "        distance_measure=ABC.log_l2_norm)\n",
    "print(\"Total error : {:,.3f}\".format(error))"
   ]
  },
  {
   "cell_type": "markdown",
   "id": "enhanced-influence",
   "metadata": {},
   "source": [
    "# Summary Statistic Selection Methods\n",
    "\n",
    "## Semi-Automatic ABC\n",
    "\n",
    "*ABC-Rejection \\w Semi-Auto Summary Statistic Selection*"
   ]
  },
  {
   "cell_type": "code",
   "execution_count": null,
   "id": "infectious-stake",
   "metadata": {},
   "outputs": [],
   "source": [
    "%%time\n",
    "# Linear Model - ABC Rejection - Semi-Auto\n",
    "np.random.seed(16111998) # Fix random seed\n",
    "sampling_details={\"sampling_method\":\"best\",\"num_runs\":1500,\"sample_size\":150}\n",
    "error=ABC_Cross_Validation.LOO_CV_abc_rejection_semi_auto(n_obs=10,x_obs=lm.x_obs,y_obs=lm.observe(),fitting_model=lm.copy([1,1]),priors=lm_priors,sampling_details=sampling_details,pilot_distance_measure=ABC.l2_norm,n_pilot_samples=2000,n_pilot_acc=400,n_params_sample_size=100,summary_stats=None)\n",
    "print(\"Total error : {:,.3f}\".format(error))"
   ]
  },
  {
   "cell_type": "code",
   "execution_count": null,
   "id": "through-carolina",
   "metadata": {},
   "outputs": [],
   "source": [
    "%%time\n",
    "# Exponential Model - ABC Rejection - Semi-Auto\n",
    "np.random.seed(16111998) # Fix random seed\n",
    "sampling_details={\"sampling_method\":\"best\",\"num_runs\":1500,\"sample_size\":150}\n",
    "error=ABC_Cross_Validation.LOO_CV_abc_rejection_semi_auto(n_obs=10,x_obs=em.x_obs,y_obs=em.observe(),fitting_model=em.copy([1,1]),priors=em_priors,sampling_details=sampling_details,pilot_distance_measure=ABC.l2_norm,n_pilot_samples=2000,n_pilot_acc=400,n_params_sample_size=100,summary_stats=None)\n",
    "print(\"Total error : {:,.3f}\".format(error))"
   ]
  },
  {
   "cell_type": "code",
   "execution_count": null,
   "id": "enormous-tunisia",
   "metadata": {},
   "outputs": [],
   "source": [
    "%%time\n",
    "# SIR Model - ABC Rejection - Semi-Auto\n",
    "np.random.seed(16111998) # Fix random seed\n",
    "sampling_details={\"sampling_method\":\"best\",\"num_runs\":1500,\"sample_size\":150,\"distance_measure\":ABC.log_l2_norm}\n",
    "error=ABC_Cross_Validation.LOO_CV_abc_rejection_semi_auto(n_obs=30,x_obs=sir_model.x_obs,y_obs=sir_model.observe(),fitting_model=sir_model.copy([1,1,1,1]),priors=sir_priors,sampling_details=sampling_details,pilot_distance_measure=ABC.l2_norm,n_pilot_samples=2000,n_pilot_acc=400,n_params_sample_size=100,summary_stats=None)\n",
    "print(\"Total error : {:,.3f}\".format(error))"
   ]
  },
  {
   "cell_type": "markdown",
   "id": "studied-wilderness",
   "metadata": {},
   "source": [
    "*ABC-MCMC \\w Semi-Auto Summary statistic selection*"
   ]
  },
  {
   "cell_type": "code",
   "execution_count": null,
   "id": "alpha-surfing",
   "metadata": {},
   "outputs": [],
   "source": [
    "%%time\n",
    "# Linear Model - ABC MCMC - Semi-Auto\n",
    "np.random.seed(16111998) # Fix random seed\n",
    "perturbance_kernels = [lambda x:x+stats.norm(0,.1).rvs(1)[0]]*2\n",
    "error=ABC_Cross_Validation.LOO_CV_abc_mcmc_semi_auto(n_obs=10,x_obs=lm.x_obs,y_obs=lm.observe(),\n",
    "    fitting_model=lm.copy([1,1]),priors=lm_priors,perturbance_kernels=perturbance_kernels,\n",
    "    acceptance_kernel=ABC.gaussian_kernel,scaling_factor=12,chain_length=1500,\n",
    "    pilot_distance_measure=ABC.l2_norm,n_pilot_samples=2000,n_pilot_acc=400,n_params_sample_size=100)\n",
    "\n",
    "print(\"Total error : {:,.3f}\".format(error))"
   ]
  },
  {
   "cell_type": "code",
   "execution_count": null,
   "id": "compliant-tomorrow",
   "metadata": {},
   "outputs": [],
   "source": [
    "%%time\n",
    "# SIR Model - ABC MCMC - Semi-Auto\n",
    "np.random.seed(16111998) # Fix random seed\n",
    "perturbance_kernels = [lambda x:x+stats.norm(0,.1).rvs(1)[0]]*2\n",
    "error=ABC_Cross_Validation.LOO_CV_abc_mcmc_semi_auto(n_obs=10,x_obs=em.x_obs,y_obs=em.observe(),\n",
    "    fitting_model=em.copy([1,1]),priors=em_priors,perturbance_kernels=perturbance_kernels,\n",
    "    acceptance_kernel=ABC.gaussian_kernel,scaling_factor=7,chain_length=1500,\n",
    "    pilot_distance_measure=ABC.l2_norm,n_pilot_samples=2000,n_pilot_acc=400,n_params_sample_size=100)\n",
    "print(\"Total error : {:,.3f}\".format(error))"
   ]
  },
  {
   "cell_type": "code",
   "execution_count": null,
   "id": "hourly-laptop",
   "metadata": {},
   "outputs": [],
   "source": [
    "%%time\n",
    "# SIR Model - ABC MCMC - Semi-Auto\n",
    "np.random.seed(16111998) # Fix random seed\n",
    "perturbance_kernels = [lambda x:x]*2 + [lambda x:x+stats.norm(0,.1).rvs(1)[0]]*2\n",
    "error=ABC_Cross_Validation.LOO_CV_abc_mcmc_semi_auto(n_obs=30,x_obs=sir_model.x_obs,y_obs=sir_model.observe(),\n",
    "    fitting_model=sir_model.copy([1,1,1,1]),priors=sir_priors,perturbance_kernels=perturbance_kernels,\n",
    "    acceptance_kernel=ABC.gaussian_kernel,scaling_factor=100000,chain_length=1500,\n",
    "    pilot_distance_measure=ABC.l2_norm,n_pilot_samples=2000,n_pilot_acc=400,n_params_sample_size=100)\n",
    "print(\"Total error : {:,.3f}\".format(error))"
   ]
  },
  {
   "cell_type": "markdown",
   "id": "trained-liquid",
   "metadata": {},
   "source": [
    "*ABC-SMC \\w Semi-Auto Summary statistic selection*"
   ]
  },
  {
   "cell_type": "code",
   "execution_count": null,
   "id": "aggregate-problem",
   "metadata": {},
   "outputs": [],
   "source": [
    "%%time\n",
    "# Linear Model - ABC SMC - Semi-Auto\n",
    "np.random.seed(16111998) # Fix random seed\n",
    "\n",
    "perturbance_variance=.1\n",
    "\n",
    "perturbance_kernels = [lambda x:x+stats.norm(0,perturbance_variance).rvs(1)[0]]*2\n",
    "perturbance_kernel_probability = [lambda x,y:stats.norm(0,perturbance_variance).pdf(x-y)]\n",
    "\n",
    "scaling_factors=list(np.linspace(15,6,4))\n",
    "\n",
    "error=ABC_Cross_Validation.LOO_CV_abc_smc_semi_auto(n_obs=10,x_obs=lm.x_obs,y_obs=lm.observe(),\n",
    "    fitting_model=lm.copy([1,1]),priors=lm_priors,perturbance_kernels=perturbance_kernels,\n",
    "    num_steps=4,sample_size=50,perturbance_kernel_probability=perturbance_kernel_probability,\n",
    "    acceptance_kernel=ABC.gaussian_kernel,scaling_factors=scaling_factors,\n",
    "    pilot_distance_measure=ABC.l2_norm,n_pilot_samples=2000,n_pilot_acc=400,n_params_sample_size=100)\n",
    "print(\"Total error : {:,.3f}\".format(error))"
   ]
  },
  {
   "cell_type": "code",
   "execution_count": null,
   "id": "everyday-magic",
   "metadata": {},
   "outputs": [],
   "source": [
    "%%time\n",
    "# Exponential Model - ABC SMC - Semi-Auto\n",
    "np.random.seed(16111998) # Fix random seed\n",
    "\n",
    "perturbance_variance=.1\n",
    "perturbance_kernels = [lambda x:x+stats.norm(0,perturbance_variance).rvs(1)[0]]*2\n",
    "perturbance_kernel_probability = [lambda x,y:stats.norm(0,perturbance_variance).pdf(x-y)]\n",
    "\n",
    "scaling_factors=list(np.linspace(10,1,4))\n",
    "\n",
    "error=ABC_Cross_Validation.LOO_CV_abc_smc_semi_auto(n_obs=10,x_obs=em.x_obs,y_obs=em.observe(),\n",
    "    fitting_model=em.copy([1,1]),priors=em_priors,perturbance_kernels=perturbance_kernels,\n",
    "    num_steps=4,sample_size=50,perturbance_kernel_probability=perturbance_kernel_probability,\n",
    "    acceptance_kernel=ABC.gaussian_kernel,scaling_factors=scaling_factors,\n",
    "    pilot_distance_measure=ABC.l2_norm,n_pilot_samples=2000,n_pilot_acc=400,n_params_sample_size=100)\n",
    "print(\"Total error : {:,.3f}\".format(error))"
   ]
  },
  {
   "cell_type": "code",
   "execution_count": null,
   "id": "representative-indonesia",
   "metadata": {
    "scrolled": false
   },
   "outputs": [],
   "source": [
    "%%time\n",
    "# SIR Model - ABC SMC - Semi-Auto\n",
    "np.random.seed(16111998) # Fix random seed\n",
    "\n",
    "perturbance_variance=.1\n",
    "perturbance_kernels = [lambda x:x]*2 + [lambda x:x+stats.norm(0,perturbance_variance).rvs(1)[0]]*2\n",
    "perturbance_kernel_probability = [lambda x,y:1]*2 + [lambda x,y:stats.norm(0,perturbance_variance).pdf(x-y)]*2\n",
    "\n",
    "scaling_factors=list(np.linspace(100000,25000,4))\n",
    "\n",
    "error=ABC_Cross_Validation.LOO_CV_abc_smc_semi_auto(n_obs=30,x_obs=sir_model.x_obs,y_obs=sir_model.observe(),\n",
    "    fitting_model=sir_model.copy([1,1,1,1]),priors=sir_smc_priors,perturbance_kernels=perturbance_kernels,\n",
    "    num_steps=4,sample_size=50,perturbance_kernel_probability=perturbance_kernel_probability,\n",
    "    acceptance_kernel=ABC.gaussian_kernel,scaling_factors=scaling_factors,\n",
    "    pilot_distance_measure=ABC.l2_norm,n_pilot_samples=2000,n_pilot_acc=400,n_params_sample_size=100)\n",
    "print(\"Total error : {:,.3f}\".format(error))"
   ]
  },
  {
   "cell_type": "code",
   "execution_count": 4,
   "id": "grave-prairie",
   "metadata": {},
   "outputs": [
    {
     "name": "stdout",
     "output_type": "stream",
     "text": [
      "0/30. ******************************************************************** Predicted - (99900.17492804976, 100.21595345813336, 0). Actual - (99900, 100, 0). Error - 0.278\n",
      "1/30. ****** Predicted - (99758.06322168747, 211.5293037863293, 31). Actual - (99801, 149, 50). Error - 78.195\n",
      "2/30. **** Predicted - (99502.03619693968, 389.4770067030799, 109). Actual - (99653, 223, 124). Error - 225.232\n",
      "3/30. ***** Predicted - (99327.02447500617, 428.5952535611708, 245). Actual - (99431, 334, 235). Error - 140.923\n",
      "4/30. ***** Predicted - (98909.97391532762, 682.5502824227601, 408). Actual - (99099, 499, 402). Error - 263.548\n",
      "5/30. ******* Predicted - (98052.15499812263, 1149.4514234548888, 799). Actual - (98605, 744, 651). Error - 701.379\n",
      "6/30. **** Predicted - (95615.02371068917, 2804.523649201209, 1581). Actual - (97872, 1105, 1023). Error - 2879.876\n",
      "7/30. **** Predicted - (90106.99127944763, 6846.591095771375, 3047). Actual - (96791, 1634, 1575). Error - 8603.131\n",
      "8/30. **** Predicted - (74278.01525247356, 17084.446917734735, 8638). Actual - (95210, 2398, 2392). Error - 26322.086\n",
      "9/30. **** Predicted - (70912.9473405861, 19142.58085843412, 9945). Actual - (92927, 3482, 3591). Error - 27753.299\n",
      "10/30. ***** Predicted - (39676.931400797155, 34481.59380111827, 25842). Actual - (89692, 4976, 5332). Error - 61585.284\n",
      "11/30. ****** Predicted - (28158.035577862916, 38018.50792546413, 33824). Actual - (85229, 6951, 7820). Error - 69989.235\n",
      "12/30. **** Predicted - (32384.04480890259, 33023.467783197426, 34593). Actual - (79305, 9400, 11295). Error - 57466.869\n",
      "13/30. **** Predicted - (9085.059524181284, 32290.51975705626, 58625). Actual - (71851, 12154, 15995). Error - 78500.698\n",
      "14/30. ******* Predicted - (7989.074922524902, 20630.425063269227, 71381). Actual - (63119, 14809, 22072). Error - 74192.824\n",
      "15/30. **** Predicted - (4072.951269978599, 15160.576417737539, 80767). Actual - (53772, 16752, 29476). Error - 71437.348\n",
      "16/30. ****** Predicted - (8031.9592226470995, 12462.558089829588, 79506). Actual - (44765, 17383, 37852). Error - 55754.666\n",
      "17/30. ******* Predicted - (4069.030711486281, 5555.52163237051, 90376). Actual - (36984, 16473, 46543). Error - 55892.025\n",
      "18/30. **** Predicted - (3218.0886889587855, 3697.435758817861, 93085). Actual - (30892, 14329, 54779). Error - 48437.848\n",
      "19/30. ****** Predicted - (3071.917755265895, 2020.5384124675038, 94908). Actual - (26466, 11591, 61943). Error - 41539.957\n",
      "20/30. **** Predicted - (1605.144158153722, 3056.444487402303, 95339). Actual - (23399, 8863, 67738). Error - 35644.122\n",
      "21/30. ***** Predicted - (5762.950393923442, 919.5872104664122, 93318). Actual - (21326, 6505, 72169). Error - 26845.587\n",
      "22/30. ***** Predicted - (3012.976059040957, 1808.5524347291503, 95179). Actual - (19939, 4640, 75421). Error - 26170.326\n",
      "23/30. ******* Predicted - (1146.0038066149718, 172.4574762260745, 98682). Actual - (19014, 3245, 77741). Error - 27698.940\n",
      "24/30. **** Predicted - (1681.9816492637183, 145.5034694298447, 98173). Actual - (18397, 2240, 79363). Error - 25250.641\n",
      "25/30. ****** Predicted - (6682.08087263802, 353.4164352538792, 92965). Actual - (17985, 1532, 80483). Error - 16880.325\n",
      "26/30. ***** Predicted - (899.9232583410776, 176.57071110526886, 98924). Actual - (17710, 1041, 81249). Error - 24407.612\n",
      "27/30. ****** Predicted - (7885.95601669194, 66.5235537608387, 92048). Actual - (17526, 705, 81769). Error - 14106.592\n",
      "28/30. **** Predicted - (5359.01806825932, 91.51093019116524, 94550). Actual - (17403, 476, 82121). Error - 17311.423\n",
      "29/30. **** Predicted - (5157.90073312608, 39.47344790563875, 94803). Actual - (17321, 320, 82359). Error - 17403.242\n",
      "Total error : 913,483.513\n",
      "Wall time: 1h 1min 24s\n"
     ]
    }
   ],
   "source": [
    "%%time\n",
    "#TODO\n",
    "sir_smc_priors=[stats.uniform(100000,1),stats.uniform(100,1),stats.uniform(.5,1.5),stats.uniform(0,.8)]\n",
    "error=ABC_Cross_Validation.LOO_CV_abc_adaptive_smc_semi_auto(n_obs=30,x_obs=sir_model.x_obs,y_obs=sir_model.observe(),\n",
    "                                  fitting_model=sir_model.copy([1,1,1,1]),priors=sir_smc_priors,\n",
    "                                  sample_size=50,max_steps=100,max_simulations=10000,alpha=.9,\n",
    "                                  distance_measure=ABC.log_l2_norm,n_pilot_samples=50000,terminal_scaling_factor=10**(-5),\n",
    "                                  n_pilot_acc=5000,n_params_sample_size=500)\n",
    "print(\"Total error : {:,.3f}\".format(error))"
   ]
  },
  {
   "cell_type": "markdown",
   "id": "electric-nebraska",
   "metadata": {},
   "source": [
    "# Results\n",
    "\n",
    "| Method \\ Model |  Linear | Exponential | SIR |\n",
    "|----------------|---------|-------------|-----|\n",
    "| ABC-Rejection Sampling | 53 | 3 | 137,806 |\n",
    "| ABC-MCMC | 58 | 8 | 120,610 |\n",
    "| ABC-SMC | 48 | 2 | 82,413 |\n",
    "\n",
    "There is no significant difference in the performance of the different algorithms for the linear model. This is not unsurprising as this is a very simple model and there are better (non-ABC methods) for fitting a linear model.\n",
    "\n",
    "For the exponential model there is a notable improvement in performance when using ABC-MCMC or ABC-SMC over ABC-Rejection Sampling. Likely due to the fact that a small change in the exponent parameter of an exponential model has a greater affect than an equivalent change to the multiplicative factor in a linear model. Thus once a good value is found, it is better to fine-tune that value (as in ABC-MCMC & ABC-SMC) rather than to start another independent search (ABC-Rejection).\n",
    "\n",
    "The results for the SIR model show significant differences between each algorithm, with the ABC-SMC algorithm performing best of all.\n",
    "\n",
    "Naturally, these results are all highly dependent on how the algorithms are implemented and tuned. I set up the algorithms so that they all used ~3,5000 simulations (because time); ABC-rejection used the 10% best; ABC-MCMC accepts ~30% of simulations; and SMC has 5/6 steps.\n",
    "\n",
    "| Method \\ Model |  Linear | Exponential | SIR |\n",
    "|----------------|---------|-------------|-----|\n",
    "| ABC-Rejection \\w Semi-Auto | 47 | 45 | 580,406 |\n",
    "| ABC-MCMC \\w Semi-Auto | 52 | 15 | 395,747 |\n",
    "| ABC-SMC \\w Semi-Auto | 47 | 2.5 | 155,680 |"
   ]
  }
 ],
 "metadata": {
  "kernelspec": {
   "display_name": "Python 3",
   "language": "python",
   "name": "python3"
  },
  "language_info": {
   "codemirror_mode": {
    "name": "ipython",
    "version": 3
   },
   "file_extension": ".py",
   "mimetype": "text/x-python",
   "name": "python",
   "nbconvert_exporter": "python",
   "pygments_lexer": "ipython3",
   "version": "3.7.3"
  }
 },
 "nbformat": 4,
 "nbformat_minor": 5
}
