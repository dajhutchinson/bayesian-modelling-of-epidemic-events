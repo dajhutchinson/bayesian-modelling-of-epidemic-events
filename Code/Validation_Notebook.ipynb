{
 "cells": [
  {
   "cell_type": "markdown",
   "id": "beautiful-conversion",
   "metadata": {},
   "source": [
    "# Validation\n",
    "Here I apply Leave-one-Out Cross-Validation to compare the variations on ABC methods I have applied\n",
    "\n",
    "**Leave-one-Out Cross-Validation**\n",
    "\n",
    "Cross-Validation allows us to compare the performance of different machine learning methods.\n",
    "\n",
    "Leave-one-Out Cross-Validation involves\n",
    "<ol>\n",
    "    <li>Selecting one element $(x,y)$ from the training set ($(x_obs,y_obs)$).</li>\n",
    "    <li>Training the model using the whole training set except $(x,y)$.</li>\n",
    "    <li>Evaluating the models prediction for $(x,y)$. (e.g. RMSE)</li>\n",
    "    <li>Repeating 1.-3. leaving a different data-point out each time.</li>\n",
    "    <li>Choose model with the lowest total error.</li>\n",
    "</ol>\n",
    "\n",
    "\n"
   ]
  }
 ],
 "metadata": {
  "kernelspec": {
   "display_name": "Python 3",
   "language": "python",
   "name": "python3"
  },
  "language_info": {
   "codemirror_mode": {
    "name": "ipython",
    "version": 3
   },
   "file_extension": ".py",
   "mimetype": "text/x-python",
   "name": "python",
   "nbconvert_exporter": "python",
   "pygments_lexer": "ipython3",
   "version": "3.7.3"
  }
 },
 "nbformat": 4,
 "nbformat_minor": 5
}
